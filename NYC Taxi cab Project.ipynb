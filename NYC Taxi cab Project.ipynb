{
 "cells": [
  {
   "cell_type": "code",
   "execution_count": 14,
   "metadata": {},
   "outputs": [],
   "source": [
    "import pandas as pd\n",
    "import numpy as np \n",
    "import seaborn as sns\n",
    "from matplotlib.ticker import FuncFormatter\n",
    "import matplotlib.pyplot as plt\n",
    "from sklearn.preprocessing import RobustScaler, StandardScaler, LabelEncoder\n",
    "from sklearn.model_selection import train_test_split, GridSearchCV\n",
    "from sklearn.linear_model import SGDRegressor, SGDClassifier\n",
    "from  math import radians"
   ]
  },
  {
   "cell_type": "code",
   "execution_count": 19,
   "metadata": {},
   "outputs": [],
   "source": [
    "sns.set_style('whitegrid')\n",
    "sns.set_context(rc={\n",
    "    'axes.titlesize':19,\n",
    "    'axes.labelsize':17,\n",
    "    'xtick.labelsize':13,\n",
    "    'ytick.labelsize':14\n",
    "})"
   ]
  },
  {
   "cell_type": "code",
   "execution_count": 42,
   "metadata": {},
   "outputs": [],
   "source": [
    "def thousands(y,pos):\n",
    "    \"\"\" \n",
    "    Function is used to change the tick label\n",
    "    It requires 2 argument: y is the tick value and pos is the position of the tick label.\n",
    "    Function returns the string format for the tick label\n",
    "    \"\"\"\n",
    "    return '{:,.0f}'.format(y)"
   ]
  },
  {
   "cell_type": "markdown",
   "metadata": {},
   "source": [
    "OUTLINE:\n",
    "\n",
    "+data introduction\n",
    "\n",
    "+data preprocessing\n",
    "    \n",
    "    assess data quality \n",
    "    \n",
    "    clean data (handling missing values; handling outliers;)\n",
    "    \n",
    "    transform data (doing univariate, multivariate graphical representation to explore the data; feature engineering \n",
    "    \n",
    "+prediction\n",
    "    \n",
    "    predict trip distance (regression)\n",
    "    \n",
    "    predict fare amount (regression)\n",
    "    \n",
    "    predict payment type(classifcation)"
   ]
  },
  {
   "cell_type": "markdown",
   "metadata": {},
   "source": [
    "# DATA INTRODUCTION"
   ]
  },
  {
   "cell_type": "markdown",
   "metadata": {},
   "source": [
    "The dataset is called NYC taxi cab which is collected from: \n",
    "https://www1.nyc.gov/site/tlc/about/tlc-trip-record-data.page\n",
    "\n",
    "The data represents the taxi trips during 2020 in NYC. There are around 24 millions of rows. \n",
    "\n",
    "Each row represents a trip. Columns display relevant information to a trip such as the starting time, ending time, the fare amount, the pick up location , drop off location, etc\n",
    "\n",
    "The data used in this notebook has been partially processed. \n",
    "\n",
    "Only 10% of 24 millions rows is used which is not too large but sufficient to showcase the ability in handling the dataset having millions of rows, in doing exploratory data analysis, and in applying ML methods into real world problems"
   ]
  },
  {
   "cell_type": "code",
   "execution_count": 15,
   "metadata": {},
   "outputs": [],
   "source": [
    "initial = pd.read_csv('D:/TOPIC_RELATED VOCABULARY IELTS/Finland/aalto/cemsschool/Other Courses/programming course for DS/project//trip_data/nyc_10%.csv' )"
   ]
  },
  {
   "cell_type": "markdown",
   "metadata": {},
   "source": [
    "Some information beforehand:\n",
    "    \n",
    "    +meaning of columns\n",
    "        \n",
    "        'PUlon', 'PUlat', 'DOlon', 'DOlat','PULocationID','DOLocationID': are the coordinates, and ID of the location (pickup location and drop off location)\n",
    "\n",
    "        'PUmonth', 'PUhour', 'DOmonth','DOhour', 'PUday', 'DOday', 'PUweekend', 'DOweekend': are the time when the trip starts and ends\n",
    "   \n",
    "       'duration','trip_distance': are how long and how far the trip takes\n",
    "       \n",
    "       'passenger_count': indicates how many passenger\n",
    "       \n",
    "       'RatecodeID',  'payment_type', 'fare_amount', 'extra', 'mta_tax','tip_amount', 'tolls_amount', 'improvement_surcharge', 'total_amount','congestion_surcharge': are relevant to the money and payment side\n",
    "       \n",
    "  \n",
    "    + unit of measurement (duration column: minutes; trip_distance column: miles; fare_amount, extra, mta_tax, tip_amount, tolls_amount, total_amount: cent)\n",
    "    \n",
    "    + other facts: 4 payment types(credit card, cash, no charge, dispute) and 6 ratecodeID; there are only 263 locationID; charge should be non negative values"
   ]
  },
  {
   "cell_type": "markdown",
   "metadata": {},
   "source": [
    "# DATA PREPROCESSING"
   ]
  },
  {
   "cell_type": "markdown",
   "metadata": {},
   "source": [
    "## Data quality assessment"
   ]
  },
  {
   "cell_type": "code",
   "execution_count": 5,
   "metadata": {},
   "outputs": [
    {
     "name": "stdout",
     "output_type": "stream",
     "text": [
      "<class 'pandas.core.frame.DataFrame'>\n",
      "RangeIndex: 2383893 entries, 0 to 2383892\n",
      "Data columns (total 29 columns):\n",
      " #   Column                 Dtype  \n",
      "---  ------                 -----  \n",
      " 0   Unnamed: 0             int64  \n",
      " 1   Unnamed: 0.1           int64  \n",
      " 2   PUlon                  float64\n",
      " 3   PUlat                  float64\n",
      " 4   DOlon                  float64\n",
      " 5   DOlat                  float64\n",
      " 6   PUmonth                int64  \n",
      " 7   PUhour                 int64  \n",
      " 8   DOmonth                int64  \n",
      " 9   DOhour                 int64  \n",
      " 10  PUweekday              object \n",
      " 11  DOweekday              object \n",
      " 12  PUweekend              int64  \n",
      " 13  DOweekend              int64  \n",
      " 14  duration               int64  \n",
      " 15  passenger_count        int64  \n",
      " 16  trip_distance          float64\n",
      " 17  RatecodeID             int64  \n",
      " 18  PULocationID           int64  \n",
      " 19  DOLocationID           int64  \n",
      " 20  payment_type           int64  \n",
      " 21  fare_amount            int64  \n",
      " 22  extra                  int64  \n",
      " 23  mta_tax                int64  \n",
      " 24  tip_amount             int64  \n",
      " 25  tolls_amount           int64  \n",
      " 26  improvement_surcharge  float64\n",
      " 27  total_amount           int64  \n",
      " 28  congestion_surcharge   float64\n",
      "dtypes: float64(7), int64(20), object(2)\n",
      "memory usage: 527.4+ MB\n"
     ]
    }
   ],
   "source": [
    "initial.info()"
   ]
  },
  {
   "cell_type": "markdown",
   "metadata": {},
   "source": [
    "From the info table: \n",
    "\n",
    "+ the data has around 2mil4 observations and there are 29 columns: 2 columns contain categorical data(Pick up weekday(PUWeekday) and Drop Off weekday(DOWeekday)) and 27 columns have data types for numeric variables (i.e: int64 or float64)\n",
    "\n",
    "\n",
    "+ However, on second thought, there are some mismatch in data types. Some columns should have had been defined as categorical or object type since they are categorical variables rather than numeric variables. Examples could be RatecodeID, payment_type, LocationID, Weekend (0,1 indicates whether it is weekend or not). Bear this in mind, we should not do usual computation on them (sum, subtract, etc)\n",
    "\n",
    "\n",
    "+ Though columns such as month, day, hour incorporate numbers, these do not behave like usual numbers we know but rather they have the cyclic properties that should be taken into account. E.g: As for month, after 12, it should be 1 rather than 13. We would find ways to handle them later\n",
    "\n"
   ]
  },
  {
   "cell_type": "code",
   "execution_count": 16,
   "metadata": {},
   "outputs": [],
   "source": [
    "#Drop two meaningless columns (i.e:Unnamed)\n",
    "initial= initial.iloc[:,2::]"
   ]
  },
  {
   "cell_type": "code",
   "execution_count": 17,
   "metadata": {},
   "outputs": [
    {
     "data": {
      "text/html": [
       "<div>\n",
       "<style scoped>\n",
       "    .dataframe tbody tr th:only-of-type {\n",
       "        vertical-align: middle;\n",
       "    }\n",
       "\n",
       "    .dataframe tbody tr th {\n",
       "        vertical-align: top;\n",
       "    }\n",
       "\n",
       "    .dataframe thead th {\n",
       "        text-align: right;\n",
       "    }\n",
       "</style>\n",
       "<table border=\"1\" class=\"dataframe\">\n",
       "  <thead>\n",
       "    <tr style=\"text-align: right;\">\n",
       "      <th></th>\n",
       "      <th>PUlon</th>\n",
       "      <th>PUlat</th>\n",
       "      <th>DOlon</th>\n",
       "      <th>DOlat</th>\n",
       "      <th>PUmonth</th>\n",
       "      <th>PUhour</th>\n",
       "      <th>DOmonth</th>\n",
       "      <th>DOhour</th>\n",
       "      <th>PUweekday</th>\n",
       "      <th>DOweekday</th>\n",
       "      <th>PUweekend</th>\n",
       "      <th>DOweekend</th>\n",
       "      <th>duration</th>\n",
       "      <th>passenger_count</th>\n",
       "      <th>trip_distance</th>\n",
       "    </tr>\n",
       "  </thead>\n",
       "  <tbody>\n",
       "    <tr>\n",
       "      <th>count</th>\n",
       "      <td>2,383,893.00</td>\n",
       "      <td>2,383,893.00</td>\n",
       "      <td>2,383,893.00</td>\n",
       "      <td>2,383,893.00</td>\n",
       "      <td>2,383,893.00</td>\n",
       "      <td>2,383,893.00</td>\n",
       "      <td>2,383,893.00</td>\n",
       "      <td>2,383,893.00</td>\n",
       "      <td>2383893</td>\n",
       "      <td>2383893</td>\n",
       "      <td>2,383,893.00</td>\n",
       "      <td>2,383,893.00</td>\n",
       "      <td>2,383,893.00</td>\n",
       "      <td>2,383,893.00</td>\n",
       "      <td>2,383,893.00</td>\n",
       "    </tr>\n",
       "    <tr>\n",
       "      <th>unique</th>\n",
       "      <td>NaN</td>\n",
       "      <td>NaN</td>\n",
       "      <td>NaN</td>\n",
       "      <td>NaN</td>\n",
       "      <td>NaN</td>\n",
       "      <td>NaN</td>\n",
       "      <td>NaN</td>\n",
       "      <td>NaN</td>\n",
       "      <td>7</td>\n",
       "      <td>7</td>\n",
       "      <td>NaN</td>\n",
       "      <td>NaN</td>\n",
       "      <td>NaN</td>\n",
       "      <td>NaN</td>\n",
       "      <td>NaN</td>\n",
       "    </tr>\n",
       "    <tr>\n",
       "      <th>top</th>\n",
       "      <td>NaN</td>\n",
       "      <td>NaN</td>\n",
       "      <td>NaN</td>\n",
       "      <td>NaN</td>\n",
       "      <td>NaN</td>\n",
       "      <td>NaN</td>\n",
       "      <td>NaN</td>\n",
       "      <td>NaN</td>\n",
       "      <td>Thu</td>\n",
       "      <td>Thu</td>\n",
       "      <td>NaN</td>\n",
       "      <td>NaN</td>\n",
       "      <td>NaN</td>\n",
       "      <td>NaN</td>\n",
       "      <td>NaN</td>\n",
       "    </tr>\n",
       "    <tr>\n",
       "      <th>freq</th>\n",
       "      <td>NaN</td>\n",
       "      <td>NaN</td>\n",
       "      <td>NaN</td>\n",
       "      <td>NaN</td>\n",
       "      <td>NaN</td>\n",
       "      <td>NaN</td>\n",
       "      <td>NaN</td>\n",
       "      <td>NaN</td>\n",
       "      <td>383106</td>\n",
       "      <td>382637</td>\n",
       "      <td>NaN</td>\n",
       "      <td>NaN</td>\n",
       "      <td>NaN</td>\n",
       "      <td>NaN</td>\n",
       "      <td>NaN</td>\n",
       "    </tr>\n",
       "    <tr>\n",
       "      <th>mean</th>\n",
       "      <td>-73.97</td>\n",
       "      <td>40.76</td>\n",
       "      <td>-73.97</td>\n",
       "      <td>40.76</td>\n",
       "      <td>4.39</td>\n",
       "      <td>13.91</td>\n",
       "      <td>4.39</td>\n",
       "      <td>13.98</td>\n",
       "      <td>NaN</td>\n",
       "      <td>NaN</td>\n",
       "      <td>0.11</td>\n",
       "      <td>0.11</td>\n",
       "      <td>14.81</td>\n",
       "      <td>1.47</td>\n",
       "      <td>2.75</td>\n",
       "    </tr>\n",
       "    <tr>\n",
       "      <th>std</th>\n",
       "      <td>0.04</td>\n",
       "      <td>0.03</td>\n",
       "      <td>0.03</td>\n",
       "      <td>0.03</td>\n",
       "      <td>3.83</td>\n",
       "      <td>5.55</td>\n",
       "      <td>3.83</td>\n",
       "      <td>5.62</td>\n",
       "      <td>NaN</td>\n",
       "      <td>NaN</td>\n",
       "      <td>0.31</td>\n",
       "      <td>0.32</td>\n",
       "      <td>61.67</td>\n",
       "      <td>1.11</td>\n",
       "      <td>31.59</td>\n",
       "    </tr>\n",
       "    <tr>\n",
       "      <th>min</th>\n",
       "      <td>-74.23</td>\n",
       "      <td>40.53</td>\n",
       "      <td>-74.23</td>\n",
       "      <td>40.53</td>\n",
       "      <td>1.00</td>\n",
       "      <td>0.00</td>\n",
       "      <td>1.00</td>\n",
       "      <td>0.00</td>\n",
       "      <td>NaN</td>\n",
       "      <td>NaN</td>\n",
       "      <td>0.00</td>\n",
       "      <td>0.00</td>\n",
       "      <td>0.00</td>\n",
       "      <td>0.00</td>\n",
       "      <td>0.00</td>\n",
       "    </tr>\n",
       "    <tr>\n",
       "      <th>25%</th>\n",
       "      <td>-73.99</td>\n",
       "      <td>40.74</td>\n",
       "      <td>-73.99</td>\n",
       "      <td>40.74</td>\n",
       "      <td>1.00</td>\n",
       "      <td>10.00</td>\n",
       "      <td>1.00</td>\n",
       "      <td>10.00</td>\n",
       "      <td>NaN</td>\n",
       "      <td>NaN</td>\n",
       "      <td>0.00</td>\n",
       "      <td>0.00</td>\n",
       "      <td>6.00</td>\n",
       "      <td>1.00</td>\n",
       "      <td>0.97</td>\n",
       "    </tr>\n",
       "    <tr>\n",
       "      <th>50%</th>\n",
       "      <td>-73.98</td>\n",
       "      <td>40.76</td>\n",
       "      <td>-73.98</td>\n",
       "      <td>40.76</td>\n",
       "      <td>2.00</td>\n",
       "      <td>14.00</td>\n",
       "      <td>2.00</td>\n",
       "      <td>15.00</td>\n",
       "      <td>NaN</td>\n",
       "      <td>NaN</td>\n",
       "      <td>0.00</td>\n",
       "      <td>0.00</td>\n",
       "      <td>10.00</td>\n",
       "      <td>1.00</td>\n",
       "      <td>1.60</td>\n",
       "    </tr>\n",
       "    <tr>\n",
       "      <th>75%</th>\n",
       "      <td>-73.97</td>\n",
       "      <td>40.77</td>\n",
       "      <td>-73.96</td>\n",
       "      <td>40.78</td>\n",
       "      <td>8.00</td>\n",
       "      <td>18.00</td>\n",
       "      <td>8.00</td>\n",
       "      <td>18.00</td>\n",
       "      <td>NaN</td>\n",
       "      <td>NaN</td>\n",
       "      <td>0.00</td>\n",
       "      <td>0.00</td>\n",
       "      <td>16.00</td>\n",
       "      <td>1.00</td>\n",
       "      <td>2.88</td>\n",
       "    </tr>\n",
       "    <tr>\n",
       "      <th>max</th>\n",
       "      <td>-73.71</td>\n",
       "      <td>40.90</td>\n",
       "      <td>-73.71</td>\n",
       "      <td>40.90</td>\n",
       "      <td>12.00</td>\n",
       "      <td>23.00</td>\n",
       "      <td>12.00</td>\n",
       "      <td>23.00</td>\n",
       "      <td>NaN</td>\n",
       "      <td>NaN</td>\n",
       "      <td>1.00</td>\n",
       "      <td>1.00</td>\n",
       "      <td>5,170.00</td>\n",
       "      <td>9.00</td>\n",
       "      <td>48,477.45</td>\n",
       "    </tr>\n",
       "  </tbody>\n",
       "</table>\n",
       "</div>"
      ],
      "text/plain": [
       "              PUlon        PUlat        DOlon        DOlat      PUmonth  \\\n",
       "count  2,383,893.00 2,383,893.00 2,383,893.00 2,383,893.00 2,383,893.00   \n",
       "unique          NaN          NaN          NaN          NaN          NaN   \n",
       "top             NaN          NaN          NaN          NaN          NaN   \n",
       "freq            NaN          NaN          NaN          NaN          NaN   \n",
       "mean         -73.97        40.76       -73.97        40.76         4.39   \n",
       "std            0.04         0.03         0.03         0.03         3.83   \n",
       "min          -74.23        40.53       -74.23        40.53         1.00   \n",
       "25%          -73.99        40.74       -73.99        40.74         1.00   \n",
       "50%          -73.98        40.76       -73.98        40.76         2.00   \n",
       "75%          -73.97        40.77       -73.96        40.78         8.00   \n",
       "max          -73.71        40.90       -73.71        40.90        12.00   \n",
       "\n",
       "             PUhour      DOmonth       DOhour PUweekday DOweekday  \\\n",
       "count  2,383,893.00 2,383,893.00 2,383,893.00   2383893   2383893   \n",
       "unique          NaN          NaN          NaN         7         7   \n",
       "top             NaN          NaN          NaN       Thu       Thu   \n",
       "freq            NaN          NaN          NaN    383106    382637   \n",
       "mean          13.91         4.39        13.98       NaN       NaN   \n",
       "std            5.55         3.83         5.62       NaN       NaN   \n",
       "min            0.00         1.00         0.00       NaN       NaN   \n",
       "25%           10.00         1.00        10.00       NaN       NaN   \n",
       "50%           14.00         2.00        15.00       NaN       NaN   \n",
       "75%           18.00         8.00        18.00       NaN       NaN   \n",
       "max           23.00        12.00        23.00       NaN       NaN   \n",
       "\n",
       "          PUweekend    DOweekend     duration  passenger_count  trip_distance  \n",
       "count  2,383,893.00 2,383,893.00 2,383,893.00     2,383,893.00   2,383,893.00  \n",
       "unique          NaN          NaN          NaN              NaN            NaN  \n",
       "top             NaN          NaN          NaN              NaN            NaN  \n",
       "freq            NaN          NaN          NaN              NaN            NaN  \n",
       "mean           0.11         0.11        14.81             1.47           2.75  \n",
       "std            0.31         0.32        61.67             1.11          31.59  \n",
       "min            0.00         0.00         0.00             0.00           0.00  \n",
       "25%            0.00         0.00         6.00             1.00           0.97  \n",
       "50%            0.00         0.00        10.00             1.00           1.60  \n",
       "75%            0.00         0.00        16.00             1.00           2.88  \n",
       "max            1.00         1.00     5,170.00             9.00      48,477.45  "
      ]
     },
     "execution_count": 17,
     "metadata": {},
     "output_type": "execute_result"
    }
   ],
   "source": [
    "pd.options.display.float_format='{:,.2f}'.format\n",
    "initial.describe(include='all').iloc[:,:15] # include also the categorical columns"
   ]
  },
  {
   "cell_type": "code",
   "execution_count": 63,
   "metadata": {
    "scrolled": true
   },
   "outputs": [
    {
     "data": {
      "text/html": [
       "<div>\n",
       "<style scoped>\n",
       "    .dataframe tbody tr th:only-of-type {\n",
       "        vertical-align: middle;\n",
       "    }\n",
       "\n",
       "    .dataframe tbody tr th {\n",
       "        vertical-align: top;\n",
       "    }\n",
       "\n",
       "    .dataframe thead th {\n",
       "        text-align: right;\n",
       "    }\n",
       "</style>\n",
       "<table border=\"1\" class=\"dataframe\">\n",
       "  <thead>\n",
       "    <tr style=\"text-align: right;\">\n",
       "      <th></th>\n",
       "      <th>RatecodeID</th>\n",
       "      <th>PULocationID</th>\n",
       "      <th>DOLocationID</th>\n",
       "      <th>payment_type</th>\n",
       "      <th>fare_amount</th>\n",
       "      <th>extra</th>\n",
       "      <th>mta_tax</th>\n",
       "      <th>tip_amount</th>\n",
       "      <th>tolls_amount</th>\n",
       "      <th>improvement_surcharge</th>\n",
       "      <th>total_amount</th>\n",
       "      <th>congestion_surcharge</th>\n",
       "      <th>duration_sec</th>\n",
       "    </tr>\n",
       "  </thead>\n",
       "  <tbody>\n",
       "    <tr>\n",
       "      <th>count</th>\n",
       "      <td>2,383,893.00</td>\n",
       "      <td>2,383,893.00</td>\n",
       "      <td>2,383,893.00</td>\n",
       "      <td>2,383,893.00</td>\n",
       "      <td>2,383,893.00</td>\n",
       "      <td>2,383,893.00</td>\n",
       "      <td>2,383,893.00</td>\n",
       "      <td>2,383,893.00</td>\n",
       "      <td>2,383,893.00</td>\n",
       "      <td>2,383,893.00</td>\n",
       "      <td>2,383,893.00</td>\n",
       "      <td>2,383,893.00</td>\n",
       "      <td>2,383,893.00</td>\n",
       "    </tr>\n",
       "    <tr>\n",
       "      <th>unique</th>\n",
       "      <td>NaN</td>\n",
       "      <td>NaN</td>\n",
       "      <td>NaN</td>\n",
       "      <td>NaN</td>\n",
       "      <td>NaN</td>\n",
       "      <td>NaN</td>\n",
       "      <td>NaN</td>\n",
       "      <td>NaN</td>\n",
       "      <td>NaN</td>\n",
       "      <td>NaN</td>\n",
       "      <td>NaN</td>\n",
       "      <td>NaN</td>\n",
       "      <td>NaN</td>\n",
       "    </tr>\n",
       "    <tr>\n",
       "      <th>top</th>\n",
       "      <td>NaN</td>\n",
       "      <td>NaN</td>\n",
       "      <td>NaN</td>\n",
       "      <td>NaN</td>\n",
       "      <td>NaN</td>\n",
       "      <td>NaN</td>\n",
       "      <td>NaN</td>\n",
       "      <td>NaN</td>\n",
       "      <td>NaN</td>\n",
       "      <td>NaN</td>\n",
       "      <td>NaN</td>\n",
       "      <td>NaN</td>\n",
       "      <td>NaN</td>\n",
       "    </tr>\n",
       "    <tr>\n",
       "      <th>freq</th>\n",
       "      <td>NaN</td>\n",
       "      <td>NaN</td>\n",
       "      <td>NaN</td>\n",
       "      <td>NaN</td>\n",
       "      <td>NaN</td>\n",
       "      <td>NaN</td>\n",
       "      <td>NaN</td>\n",
       "      <td>NaN</td>\n",
       "      <td>NaN</td>\n",
       "      <td>NaN</td>\n",
       "      <td>NaN</td>\n",
       "      <td>NaN</td>\n",
       "      <td>NaN</td>\n",
       "    </tr>\n",
       "    <tr>\n",
       "      <th>mean</th>\n",
       "      <td>1.05</td>\n",
       "      <td>164.67</td>\n",
       "      <td>162.09</td>\n",
       "      <td>1.28</td>\n",
       "      <td>12.28</td>\n",
       "      <td>1.07</td>\n",
       "      <td>0.50</td>\n",
       "      <td>2.09</td>\n",
       "      <td>0.27</td>\n",
       "      <td>0.30</td>\n",
       "      <td>18.05</td>\n",
       "      <td>2.27</td>\n",
       "      <td>888.54</td>\n",
       "    </tr>\n",
       "    <tr>\n",
       "      <th>std</th>\n",
       "      <td>0.78</td>\n",
       "      <td>66.24</td>\n",
       "      <td>70.66</td>\n",
       "      <td>0.48</td>\n",
       "      <td>258.30</td>\n",
       "      <td>1.24</td>\n",
       "      <td>0.04</td>\n",
       "      <td>2.60</td>\n",
       "      <td>1.75</td>\n",
       "      <td>0.04</td>\n",
       "      <td>258.41</td>\n",
       "      <td>0.75</td>\n",
       "      <td>3,700.36</td>\n",
       "    </tr>\n",
       "    <tr>\n",
       "      <th>min</th>\n",
       "      <td>1.00</td>\n",
       "      <td>1.00</td>\n",
       "      <td>1.00</td>\n",
       "      <td>1.00</td>\n",
       "      <td>0.00</td>\n",
       "      <td>0.00</td>\n",
       "      <td>0.00</td>\n",
       "      <td>0.00</td>\n",
       "      <td>0.00</td>\n",
       "      <td>-0.30</td>\n",
       "      <td>0.00</td>\n",
       "      <td>-2.50</td>\n",
       "      <td>0.00</td>\n",
       "    </tr>\n",
       "    <tr>\n",
       "      <th>25%</th>\n",
       "      <td>1.00</td>\n",
       "      <td>125.00</td>\n",
       "      <td>107.00</td>\n",
       "      <td>1.00</td>\n",
       "      <td>6.50</td>\n",
       "      <td>0.00</td>\n",
       "      <td>0.50</td>\n",
       "      <td>0.00</td>\n",
       "      <td>0.00</td>\n",
       "      <td>0.30</td>\n",
       "      <td>11.15</td>\n",
       "      <td>2.50</td>\n",
       "      <td>360.00</td>\n",
       "    </tr>\n",
       "    <tr>\n",
       "      <th>50%</th>\n",
       "      <td>1.00</td>\n",
       "      <td>162.00</td>\n",
       "      <td>162.00</td>\n",
       "      <td>1.00</td>\n",
       "      <td>9.00</td>\n",
       "      <td>0.50</td>\n",
       "      <td>0.50</td>\n",
       "      <td>1.86</td>\n",
       "      <td>0.00</td>\n",
       "      <td>0.30</td>\n",
       "      <td>14.16</td>\n",
       "      <td>2.50</td>\n",
       "      <td>600.00</td>\n",
       "    </tr>\n",
       "    <tr>\n",
       "      <th>75%</th>\n",
       "      <td>1.00</td>\n",
       "      <td>234.00</td>\n",
       "      <td>234.00</td>\n",
       "      <td>2.00</td>\n",
       "      <td>13.50</td>\n",
       "      <td>2.50</td>\n",
       "      <td>0.50</td>\n",
       "      <td>2.85</td>\n",
       "      <td>0.00</td>\n",
       "      <td>0.30</td>\n",
       "      <td>19.30</td>\n",
       "      <td>2.50</td>\n",
       "      <td>960.00</td>\n",
       "    </tr>\n",
       "    <tr>\n",
       "      <th>max</th>\n",
       "      <td>99.00</td>\n",
       "      <td>265.00</td>\n",
       "      <td>265.00</td>\n",
       "      <td>5.00</td>\n",
       "      <td>398,464.88</td>\n",
       "      <td>36.09</td>\n",
       "      <td>30.80</td>\n",
       "      <td>422.68</td>\n",
       "      <td>911.75</td>\n",
       "      <td>0.30</td>\n",
       "      <td>398,467.70</td>\n",
       "      <td>2.75</td>\n",
       "      <td>310,200.00</td>\n",
       "    </tr>\n",
       "  </tbody>\n",
       "</table>\n",
       "</div>"
      ],
      "text/plain": [
       "         RatecodeID  PULocationID  DOLocationID  payment_type  fare_amount  \\\n",
       "count  2,383,893.00  2,383,893.00  2,383,893.00  2,383,893.00 2,383,893.00   \n",
       "unique          NaN           NaN           NaN           NaN          NaN   \n",
       "top             NaN           NaN           NaN           NaN          NaN   \n",
       "freq            NaN           NaN           NaN           NaN          NaN   \n",
       "mean           1.05        164.67        162.09          1.28        12.28   \n",
       "std            0.78         66.24         70.66          0.48       258.30   \n",
       "min            1.00          1.00          1.00          1.00         0.00   \n",
       "25%            1.00        125.00        107.00          1.00         6.50   \n",
       "50%            1.00        162.00        162.00          1.00         9.00   \n",
       "75%            1.00        234.00        234.00          2.00        13.50   \n",
       "max           99.00        265.00        265.00          5.00   398,464.88   \n",
       "\n",
       "              extra      mta_tax   tip_amount  tolls_amount  \\\n",
       "count  2,383,893.00 2,383,893.00 2,383,893.00  2,383,893.00   \n",
       "unique          NaN          NaN          NaN           NaN   \n",
       "top             NaN          NaN          NaN           NaN   \n",
       "freq            NaN          NaN          NaN           NaN   \n",
       "mean           1.07         0.50         2.09          0.27   \n",
       "std            1.24         0.04         2.60          1.75   \n",
       "min            0.00         0.00         0.00          0.00   \n",
       "25%            0.00         0.50         0.00          0.00   \n",
       "50%            0.50         0.50         1.86          0.00   \n",
       "75%            2.50         0.50         2.85          0.00   \n",
       "max           36.09        30.80       422.68        911.75   \n",
       "\n",
       "        improvement_surcharge  total_amount  congestion_surcharge  \\\n",
       "count            2,383,893.00  2,383,893.00          2,383,893.00   \n",
       "unique                    NaN           NaN                   NaN   \n",
       "top                       NaN           NaN                   NaN   \n",
       "freq                      NaN           NaN                   NaN   \n",
       "mean                     0.30         18.05                  2.27   \n",
       "std                      0.04        258.41                  0.75   \n",
       "min                     -0.30          0.00                 -2.50   \n",
       "25%                      0.30         11.15                  2.50   \n",
       "50%                      0.30         14.16                  2.50   \n",
       "75%                      0.30         19.30                  2.50   \n",
       "max                      0.30    398,467.70                  2.75   \n",
       "\n",
       "        duration_sec  \n",
       "count   2,383,893.00  \n",
       "unique           NaN  \n",
       "top              NaN  \n",
       "freq             NaN  \n",
       "mean          888.54  \n",
       "std         3,700.36  \n",
       "min             0.00  \n",
       "25%           360.00  \n",
       "50%           600.00  \n",
       "75%           960.00  \n",
       "max       310,200.00  "
      ]
     },
     "execution_count": 63,
     "metadata": {},
     "output_type": "execute_result"
    }
   ],
   "source": [
    "initial.describe(include='all').iloc[:,15::]"
   ]
  },
  {
   "cell_type": "markdown",
   "metadata": {},
   "source": [
    "From the description table:\n",
    "\n",
    "+ there exist some extremely large values (outliers)  in duration, trip_distance, ratecodeID, fare_amount, extra, mta_tax, tip_amount, tolls_amount, total_amount columns\n",
    "\n",
    "\n",
    "+ there are some negative values in non-negative variable columns(i.e congestion_surcharge, improvement_surcharge)"
   ]
  },
  {
   "cell_type": "markdown",
   "metadata": {},
   "source": [
    "### handle mismatch data types, mismatch data values "
   ]
  },
  {
   "cell_type": "code",
   "execution_count": 77,
   "metadata": {},
   "outputs": [
    {
     "name": "stdout",
     "output_type": "stream",
     "text": [
      "Unique values in PUday are ['Fri' 'Mon' 'Sat' 'Sun' 'Thu' 'Tue' 'Wed']\n",
      "Unique values in DOday are ['Fri' 'Mon' 'Sat' 'Sun' 'Thu' 'Tue' 'Wed']\n"
     ]
    }
   ],
   "source": [
    "    # categorical columns\n",
    "initial.rename({'PUweekday':'PUday','DOweekday':'DOday'},axis=1, inplace=True)\n",
    "    for col in initial.columns:\n",
    "        if(initial[col].dtypes != 'int64' and initial[col].dtypes != 'float64'):\n",
    "            print('Unique values in {} are {}'.format(col,np.unique(initial[col])))"
   ]
  },
  {
   "cell_type": "markdown",
   "metadata": {},
   "source": [
    "We could say that the values used in columns are consistent. There is no mismatch data (e.g: Fri and Friday )"
   ]
  },
  {
   "cell_type": "code",
   "execution_count": 18,
   "metadata": {},
   "outputs": [],
   "source": [
    "    # numeric columns\n",
    "# convert from cent to dollars for currency columns\n",
    "initial[['fare_amount', 'extra', 'mta_tax',\n",
    "       'tip_amount', 'tolls_amount', 'total_amount']]=initial[['fare_amount', 'extra', 'mta_tax',\n",
    "       'tip_amount', 'tolls_amount', 'total_amount']]/100\n",
    "\n",
    "# convert from minutes to seconds for duration column\n",
    "initial['duration_sec']=initial['duration']*60"
   ]
  },
  {
   "cell_type": "markdown",
   "metadata": {},
   "source": [
    "## Data cleaning"
   ]
  },
  {
   "cell_type": "markdown",
   "metadata": {},
   "source": [
    "### detect missing values"
   ]
  },
  {
   "cell_type": "code",
   "execution_count": 27,
   "metadata": {},
   "outputs": [
    {
     "data": {
      "text/html": [
       "<div>\n",
       "<style scoped>\n",
       "    .dataframe tbody tr th:only-of-type {\n",
       "        vertical-align: middle;\n",
       "    }\n",
       "\n",
       "    .dataframe tbody tr th {\n",
       "        vertical-align: top;\n",
       "    }\n",
       "\n",
       "    .dataframe thead th {\n",
       "        text-align: right;\n",
       "    }\n",
       "</style>\n",
       "<table border=\"1\" class=\"dataframe\">\n",
       "  <thead>\n",
       "    <tr style=\"text-align: right;\">\n",
       "      <th></th>\n",
       "      <th>Names</th>\n",
       "      <th>Number of missing values</th>\n",
       "    </tr>\n",
       "  </thead>\n",
       "  <tbody>\n",
       "    <tr>\n",
       "      <th>0</th>\n",
       "      <td>PUlon</td>\n",
       "      <td>0</td>\n",
       "    </tr>\n",
       "    <tr>\n",
       "      <th>1</th>\n",
       "      <td>PUlat</td>\n",
       "      <td>0</td>\n",
       "    </tr>\n",
       "    <tr>\n",
       "      <th>2</th>\n",
       "      <td>DOlon</td>\n",
       "      <td>0</td>\n",
       "    </tr>\n",
       "    <tr>\n",
       "      <th>3</th>\n",
       "      <td>DOlat</td>\n",
       "      <td>0</td>\n",
       "    </tr>\n",
       "    <tr>\n",
       "      <th>4</th>\n",
       "      <td>PUmonth</td>\n",
       "      <td>0</td>\n",
       "    </tr>\n",
       "    <tr>\n",
       "      <th>5</th>\n",
       "      <td>PUhour</td>\n",
       "      <td>0</td>\n",
       "    </tr>\n",
       "    <tr>\n",
       "      <th>6</th>\n",
       "      <td>DOmonth</td>\n",
       "      <td>0</td>\n",
       "    </tr>\n",
       "    <tr>\n",
       "      <th>7</th>\n",
       "      <td>DOhour</td>\n",
       "      <td>0</td>\n",
       "    </tr>\n",
       "    <tr>\n",
       "      <th>8</th>\n",
       "      <td>PUweekday</td>\n",
       "      <td>0</td>\n",
       "    </tr>\n",
       "    <tr>\n",
       "      <th>9</th>\n",
       "      <td>DOweekday</td>\n",
       "      <td>0</td>\n",
       "    </tr>\n",
       "    <tr>\n",
       "      <th>10</th>\n",
       "      <td>PUweekend</td>\n",
       "      <td>0</td>\n",
       "    </tr>\n",
       "    <tr>\n",
       "      <th>11</th>\n",
       "      <td>DOweekend</td>\n",
       "      <td>0</td>\n",
       "    </tr>\n",
       "    <tr>\n",
       "      <th>12</th>\n",
       "      <td>duration</td>\n",
       "      <td>0</td>\n",
       "    </tr>\n",
       "    <tr>\n",
       "      <th>13</th>\n",
       "      <td>passenger_count</td>\n",
       "      <td>0</td>\n",
       "    </tr>\n",
       "    <tr>\n",
       "      <th>14</th>\n",
       "      <td>trip_distance</td>\n",
       "      <td>0</td>\n",
       "    </tr>\n",
       "    <tr>\n",
       "      <th>15</th>\n",
       "      <td>RatecodeID</td>\n",
       "      <td>0</td>\n",
       "    </tr>\n",
       "    <tr>\n",
       "      <th>16</th>\n",
       "      <td>PULocationID</td>\n",
       "      <td>0</td>\n",
       "    </tr>\n",
       "    <tr>\n",
       "      <th>17</th>\n",
       "      <td>DOLocationID</td>\n",
       "      <td>0</td>\n",
       "    </tr>\n",
       "    <tr>\n",
       "      <th>18</th>\n",
       "      <td>payment_type</td>\n",
       "      <td>0</td>\n",
       "    </tr>\n",
       "    <tr>\n",
       "      <th>19</th>\n",
       "      <td>fare_amount</td>\n",
       "      <td>0</td>\n",
       "    </tr>\n",
       "    <tr>\n",
       "      <th>20</th>\n",
       "      <td>extra</td>\n",
       "      <td>0</td>\n",
       "    </tr>\n",
       "    <tr>\n",
       "      <th>21</th>\n",
       "      <td>mta_tax</td>\n",
       "      <td>0</td>\n",
       "    </tr>\n",
       "    <tr>\n",
       "      <th>22</th>\n",
       "      <td>tip_amount</td>\n",
       "      <td>0</td>\n",
       "    </tr>\n",
       "    <tr>\n",
       "      <th>23</th>\n",
       "      <td>tolls_amount</td>\n",
       "      <td>0</td>\n",
       "    </tr>\n",
       "    <tr>\n",
       "      <th>24</th>\n",
       "      <td>improvement_surcharge</td>\n",
       "      <td>0</td>\n",
       "    </tr>\n",
       "    <tr>\n",
       "      <th>25</th>\n",
       "      <td>total_amount</td>\n",
       "      <td>0</td>\n",
       "    </tr>\n",
       "    <tr>\n",
       "      <th>26</th>\n",
       "      <td>congestion_surcharge</td>\n",
       "      <td>0</td>\n",
       "    </tr>\n",
       "    <tr>\n",
       "      <th>27</th>\n",
       "      <td>duration_sec</td>\n",
       "      <td>0</td>\n",
       "    </tr>\n",
       "  </tbody>\n",
       "</table>\n",
       "</div>"
      ],
      "text/plain": [
       "                    Names  Number of missing values\n",
       "0                   PUlon                         0\n",
       "1                   PUlat                         0\n",
       "2                   DOlon                         0\n",
       "3                   DOlat                         0\n",
       "4                 PUmonth                         0\n",
       "5                  PUhour                         0\n",
       "6                 DOmonth                         0\n",
       "7                  DOhour                         0\n",
       "8               PUweekday                         0\n",
       "9               DOweekday                         0\n",
       "10              PUweekend                         0\n",
       "11              DOweekend                         0\n",
       "12               duration                         0\n",
       "13        passenger_count                         0\n",
       "14          trip_distance                         0\n",
       "15             RatecodeID                         0\n",
       "16           PULocationID                         0\n",
       "17           DOLocationID                         0\n",
       "18           payment_type                         0\n",
       "19            fare_amount                         0\n",
       "20                  extra                         0\n",
       "21                mta_tax                         0\n",
       "22             tip_amount                         0\n",
       "23           tolls_amount                         0\n",
       "24  improvement_surcharge                         0\n",
       "25           total_amount                         0\n",
       "26   congestion_surcharge                         0\n",
       "27           duration_sec                         0"
      ]
     },
     "execution_count": 27,
     "metadata": {},
     "output_type": "execute_result"
    }
   ],
   "source": [
    "missing_df = initial.isnull().sum(axis=0).reset_index()\n",
    "missing_df.columns=['Names','Number of missing values']\n",
    "missing_df"
   ]
  },
  {
   "cell_type": "markdown",
   "metadata": {},
   "source": [
    "The dataset at this point seems to contain no missing values"
   ]
  },
  {
   "cell_type": "markdown",
   "metadata": {},
   "source": [
    "### detect and handle outliers (due to data entry error)\n",
    "methods: deletion"
   ]
  },
  {
   "cell_type": "markdown",
   "metadata": {},
   "source": [
    "Firstly, let's handle the data that are nonsensical which could be due to the errors cropping up during the data input process. To do so, I set some criteria for what to be considered to be sensible"
   ]
  },
  {
   "cell_type": "code",
   "execution_count": 34,
   "metadata": {},
   "outputs": [
    {
     "data": {
      "image/png": "[encoded data removed]",
      "text/plain": [
       "<Figure size 432x432 with 1 Axes>"
      ]
     },
     "metadata": {},
     "output_type": "display_data"
    }
   ],
   "source": [
    "formatter= FuncFormatter(thousands)\n",
    "g= sns.FacetGrid(data=initial,height=6)\n",
    "g.map(sns.scatterplot,'duration_sec','trip_distance',color=sns.color_palette('husl')[1])\n",
    "g.set(title='Relationship between distance and time')\n",
    "g.set_axis_labels('Seconds','Miles')\n",
    "g.axes[0][0].xaxis.set_major_formatter(formatter)\n",
    "g.axes[0][0].yaxis.set_major_formatter(formatter)\n",
    "plt.tight_layout()\n",
    "plt.show()"
   ]
  },
  {
   "cell_type": "markdown",
   "metadata": {},
   "source": [
    "Speed= Distance/ Time\n",
    "\n",
    "From the scatterplot showing the relationship between duration_sec and trip_distance, we could tell that there are some strange observations. \n",
    "Let me clarify my point:\n",
    "It is believed that for a taxi in nyc:\n",
    "\n",
    "+it takes around an hour for a distance of 21 miles. Here I set the loose upper bound  which is around 80 miles per hour (0.02 miles per second).\n",
    "https://en.wikipedia.org/wiki/Taxiing#cite_note-6\n",
    "\n",
    "+we could also assume that no matter how congestred the traffic is, the taxi should be able to travel at least 1 mile per hour. So this is the lower bound (0.0002 miles per second)\n",
    "\n",
    "So, for any observations that are outside of this condition, it is very likely that they are just the  erroneous entries. Any data points like this could be dropped out"
   ]
  },
  {
   "cell_type": "code",
   "execution_count": 30,
   "metadata": {},
   "outputs": [],
   "source": [
    "c1= (initial['trip_distance']/initial['duration_sec'])<=0.02 \n",
    "c2= (initial['trip_distance']/initial['duration_sec'])>0.0002"
   ]
  },
  {
   "cell_type": "code",
   "execution_count": 35,
   "metadata": {},
   "outputs": [
    {
     "data": {
      "image/png": "[encoded data removed]",
      "text/plain": [
       "<Figure size 432x432 with 1 Axes>"
      ]
     },
     "metadata": {},
     "output_type": "display_data"
    }
   ],
   "source": [
    "g= sns.FacetGrid(data=initial[c1 & c2],height=6)\n",
    "g.map(sns.scatterplot,'duration_sec','trip_distance',color=sns.color_palette('husl')[1])\n",
    "g.set(title='Relationship between Distance and Time')\n",
    "g.set_axis_labels('Seconds','Miles')\n",
    "g.axes[0][0].xaxis.set_major_formatter(formatter)\n",
    "g.axes[0][0].yaxis.set_major_formatter(formatter)\n",
    "plt.tight_layout()\n",
    "plt.show()"
   ]
  },
  {
   "cell_type": "markdown",
   "metadata": {},
   "source": [
    "the data becomes much more sensible now."
   ]
  },
  {
   "cell_type": "markdown",
   "metadata": {},
   "source": [
    "There are some conditions for other columns:\n",
    "\n",
    "+ there are only 4 payment types(credit card, cash, no charge, dispute) and 6 ratecodeID\n",
    "\n",
    "\n",
    "+ there are only 263 locationID\n",
    "\n",
    "\n",
    "+ charge should be non negative values"
   ]
  },
  {
   "cell_type": "code",
   "execution_count": 36,
   "metadata": {},
   "outputs": [],
   "source": [
    "# Payment and Ratecode conditions\n",
    "cPay = initial['payment_type']<=4\n",
    "cRate=  initial['RatecodeID']<=6\n",
    "\n",
    "# LocationID conditions\n",
    "cLocPU=initial['PULocationID']<=263\n",
    "cLocDO=initial['DOLocationID']<=263\n",
    "\n",
    "# Charge conditions\n",
    "cchaIm=initial['improvement_surcharge']>=0\n",
    "cchaCo=initial['congestion_surcharge']>=0"
   ]
  },
  {
   "cell_type": "code",
   "execution_count": 79,
   "metadata": {},
   "outputs": [],
   "source": [
    "initial_trimmed= initial[c1& c2 &cPay & cRate & cLocPU & cLocDO & cchaIm & cchaCo]"
   ]
  },
  {
   "cell_type": "markdown",
   "metadata": {},
   "source": [
    "### detect and handle other types of outliers \n",
    "methods: clipping"
   ]
  },
  {
   "cell_type": "markdown",
   "metadata": {},
   "source": [
    "As for the outliers that are not because of data entry error, I applied clipping methods to handle them"
   ]
  },
  {
   "cell_type": "code",
   "execution_count": 39,
   "metadata": {},
   "outputs": [
    {
     "data": {
      "image/png": "[encoded data removed]",
      "text/plain": [
       "<Figure size 1080x576 with 8 Axes>"
      ]
     },
     "metadata": {},
     "output_type": "display_data"
    }
   ],
   "source": [
    "fig,ax= plt.subplots(2,4,figsize=(15,8))\n",
    "outliers_col_names= ['duration_sec','trip_distance', 'fare_amount', 'extra', 'mta_tax', 'tip_amount', 'tolls_amount', 'total_amount']\n",
    "for j in np.arange(0,2):\n",
    "        for i in np.arange(0,4):    \n",
    "            if (j==0): \n",
    "                col= outliers_col_names[i]\n",
    "            else:        \n",
    "                col= outliers_col_names[i+4]\n",
    "            ax[j,i].boxplot(initial_trimmed[col])\n",
    "            ax[j,i].set_title('{}'.format(col))\n",
    "            ax[j,i].yaxis.set_major_formatter(formatter)\n",
    "plt.tight_layout()    \n",
    "plt.show()"
   ]
  },
  {
   "cell_type": "code",
   "execution_count": 103,
   "metadata": {},
   "outputs": [
    {
     "name": "stderr",
     "output_type": "stream",
     "text": [
      "C:\\Users\\ADMIN\\AppData\\Local\\Temp/ipykernel_4728/2461979249.py:11: SettingWithCopyWarning: \n",
      "A value is trying to be set on a copy of a slice from a DataFrame.\n",
      "Try using .loc[row_indexer,col_indexer] = value instead\n",
      "\n",
      "See the caveats in the documentation: https://pandas.pydata.org/pandas-docs/stable/user_guide/indexing.html#returning-a-view-versus-a-copy\n",
      "  initial_trimmed[transformed]=clipping(initial_trimmed[col])\n"
     ]
    }
   ],
   "source": [
    "def clipping(col):\n",
    "    \"\"\"\n",
    "    Function used to handle outliers. Any values that are lower than percentile 1% or exceed perecentile 99% would be set to be the values at 1% or 99% respectively\n",
    "    Function accepts Series as its argument\n",
    "    It returns the clipped Series\n",
    "    \"\"\"\n",
    "    return col.clip(lower=col.quantile(0.01),upper=col.quantile(0.99))\n",
    "\n",
    "for col in outliers_col_names:\n",
    "    transformed= 'clipped_'+col\n",
    "    initial_trimmed[transformed]=clipping(initial_trimmed[col])"
   ]
  },
  {
   "cell_type": "code",
   "execution_count": 41,
   "metadata": {},
   "outputs": [
    {
     "data": {
      "text/html": [
       "<div>\n",
       "<style scoped>\n",
       "    .dataframe tbody tr th:only-of-type {\n",
       "        vertical-align: middle;\n",
       "    }\n",
       "\n",
       "    .dataframe tbody tr th {\n",
       "        vertical-align: top;\n",
       "    }\n",
       "\n",
       "    .dataframe thead th {\n",
       "        text-align: right;\n",
       "    }\n",
       "</style>\n",
       "<table border=\"1\" class=\"dataframe\">\n",
       "  <thead>\n",
       "    <tr style=\"text-align: right;\">\n",
       "      <th></th>\n",
       "      <th>payment_type</th>\n",
       "      <th>fare_amount</th>\n",
       "      <th>extra</th>\n",
       "      <th>mta_tax</th>\n",
       "      <th>tip_amount</th>\n",
       "      <th>tolls_amount</th>\n",
       "      <th>improvement_surcharge</th>\n",
       "      <th>total_amount</th>\n",
       "      <th>congestion_surcharge</th>\n",
       "      <th>duration_sec</th>\n",
       "      <th>clipped_duration_sec</th>\n",
       "      <th>clipped_trip_distance</th>\n",
       "      <th>clipped_fare_amount</th>\n",
       "      <th>clipped_extra</th>\n",
       "      <th>clipped_mta_tax</th>\n",
       "      <th>clipped_tip_amount</th>\n",
       "      <th>clipped_tolls_amount</th>\n",
       "      <th>clipped_total_amount</th>\n",
       "    </tr>\n",
       "  </thead>\n",
       "  <tbody>\n",
       "    <tr>\n",
       "      <th>count</th>\n",
       "      <td>2,308,850.00</td>\n",
       "      <td>2,308,850.00</td>\n",
       "      <td>2,308,850.00</td>\n",
       "      <td>2,308,850.00</td>\n",
       "      <td>2,308,850.00</td>\n",
       "      <td>2,308,850.00</td>\n",
       "      <td>2,308,850.00</td>\n",
       "      <td>2,308,850.00</td>\n",
       "      <td>2,308,850.00</td>\n",
       "      <td>2,308,850.00</td>\n",
       "      <td>2,308,850.00</td>\n",
       "      <td>2,308,850.00</td>\n",
       "      <td>2,308,850.00</td>\n",
       "      <td>2,308,850.00</td>\n",
       "      <td>2,308,850.00</td>\n",
       "      <td>2,308,850.00</td>\n",
       "      <td>2,308,850.00</td>\n",
       "      <td>2,308,850.00</td>\n",
       "    </tr>\n",
       "    <tr>\n",
       "      <th>unique</th>\n",
       "      <td>NaN</td>\n",
       "      <td>NaN</td>\n",
       "      <td>NaN</td>\n",
       "      <td>NaN</td>\n",
       "      <td>NaN</td>\n",
       "      <td>NaN</td>\n",
       "      <td>NaN</td>\n",
       "      <td>NaN</td>\n",
       "      <td>NaN</td>\n",
       "      <td>NaN</td>\n",
       "      <td>NaN</td>\n",
       "      <td>NaN</td>\n",
       "      <td>NaN</td>\n",
       "      <td>NaN</td>\n",
       "      <td>NaN</td>\n",
       "      <td>NaN</td>\n",
       "      <td>NaN</td>\n",
       "      <td>NaN</td>\n",
       "    </tr>\n",
       "    <tr>\n",
       "      <th>top</th>\n",
       "      <td>NaN</td>\n",
       "      <td>NaN</td>\n",
       "      <td>NaN</td>\n",
       "      <td>NaN</td>\n",
       "      <td>NaN</td>\n",
       "      <td>NaN</td>\n",
       "      <td>NaN</td>\n",
       "      <td>NaN</td>\n",
       "      <td>NaN</td>\n",
       "      <td>NaN</td>\n",
       "      <td>NaN</td>\n",
       "      <td>NaN</td>\n",
       "      <td>NaN</td>\n",
       "      <td>NaN</td>\n",
       "      <td>NaN</td>\n",
       "      <td>NaN</td>\n",
       "      <td>NaN</td>\n",
       "      <td>NaN</td>\n",
       "    </tr>\n",
       "    <tr>\n",
       "      <th>freq</th>\n",
       "      <td>NaN</td>\n",
       "      <td>NaN</td>\n",
       "      <td>NaN</td>\n",
       "      <td>NaN</td>\n",
       "      <td>NaN</td>\n",
       "      <td>NaN</td>\n",
       "      <td>NaN</td>\n",
       "      <td>NaN</td>\n",
       "      <td>NaN</td>\n",
       "      <td>NaN</td>\n",
       "      <td>NaN</td>\n",
       "      <td>NaN</td>\n",
       "      <td>NaN</td>\n",
       "      <td>NaN</td>\n",
       "      <td>NaN</td>\n",
       "      <td>NaN</td>\n",
       "      <td>NaN</td>\n",
       "      <td>NaN</td>\n",
       "    </tr>\n",
       "    <tr>\n",
       "      <th>mean</th>\n",
       "      <td>1.27</td>\n",
       "      <td>11.80</td>\n",
       "      <td>1.09</td>\n",
       "      <td>0.50</td>\n",
       "      <td>2.09</td>\n",
       "      <td>0.25</td>\n",
       "      <td>0.30</td>\n",
       "      <td>17.59</td>\n",
       "      <td>2.32</td>\n",
       "      <td>733.94</td>\n",
       "      <td>719.90</td>\n",
       "      <td>2.72</td>\n",
       "      <td>11.73</td>\n",
       "      <td>1.09</td>\n",
       "      <td>0.50</td>\n",
       "      <td>2.07</td>\n",
       "      <td>0.23</td>\n",
       "      <td>17.52</td>\n",
       "    </tr>\n",
       "    <tr>\n",
       "      <th>std</th>\n",
       "      <td>0.46</td>\n",
       "      <td>9.68</td>\n",
       "      <td>1.24</td>\n",
       "      <td>0.03</td>\n",
       "      <td>2.45</td>\n",
       "      <td>1.58</td>\n",
       "      <td>0.00</td>\n",
       "      <td>12.02</td>\n",
       "      <td>0.64</td>\n",
       "      <td>916.09</td>\n",
       "      <td>534.24</td>\n",
       "      <td>3.24</td>\n",
       "      <td>9.24</td>\n",
       "      <td>1.23</td>\n",
       "      <td>0.00</td>\n",
       "      <td>2.16</td>\n",
       "      <td>1.17</td>\n",
       "      <td>11.46</td>\n",
       "    </tr>\n",
       "    <tr>\n",
       "      <th>min</th>\n",
       "      <td>1.00</td>\n",
       "      <td>0.00</td>\n",
       "      <td>0.00</td>\n",
       "      <td>0.00</td>\n",
       "      <td>0.00</td>\n",
       "      <td>0.00</td>\n",
       "      <td>0.00</td>\n",
       "      <td>0.00</td>\n",
       "      <td>0.00</td>\n",
       "      <td>60.00</td>\n",
       "      <td>60.00</td>\n",
       "      <td>0.30</td>\n",
       "      <td>3.50</td>\n",
       "      <td>0.00</td>\n",
       "      <td>0.50</td>\n",
       "      <td>0.00</td>\n",
       "      <td>0.00</td>\n",
       "      <td>6.62</td>\n",
       "    </tr>\n",
       "    <tr>\n",
       "      <th>25%</th>\n",
       "      <td>1.00</td>\n",
       "      <td>6.50</td>\n",
       "      <td>0.00</td>\n",
       "      <td>0.50</td>\n",
       "      <td>0.00</td>\n",
       "      <td>0.00</td>\n",
       "      <td>0.30</td>\n",
       "      <td>11.15</td>\n",
       "      <td>2.50</td>\n",
       "      <td>360.00</td>\n",
       "      <td>360.00</td>\n",
       "      <td>1.00</td>\n",
       "      <td>6.50</td>\n",
       "      <td>0.00</td>\n",
       "      <td>0.50</td>\n",
       "      <td>0.00</td>\n",
       "      <td>0.00</td>\n",
       "      <td>11.15</td>\n",
       "    </tr>\n",
       "    <tr>\n",
       "      <th>50%</th>\n",
       "      <td>1.00</td>\n",
       "      <td>9.00</td>\n",
       "      <td>0.50</td>\n",
       "      <td>0.50</td>\n",
       "      <td>1.95</td>\n",
       "      <td>0.00</td>\n",
       "      <td>0.30</td>\n",
       "      <td>14.16</td>\n",
       "      <td>2.50</td>\n",
       "      <td>600.00</td>\n",
       "      <td>600.00</td>\n",
       "      <td>1.63</td>\n",
       "      <td>9.00</td>\n",
       "      <td>0.50</td>\n",
       "      <td>0.50</td>\n",
       "      <td>1.95</td>\n",
       "      <td>0.00</td>\n",
       "      <td>14.16</td>\n",
       "    </tr>\n",
       "    <tr>\n",
       "      <th>75%</th>\n",
       "      <td>2.00</td>\n",
       "      <td>13.00</td>\n",
       "      <td>2.50</td>\n",
       "      <td>0.50</td>\n",
       "      <td>2.85</td>\n",
       "      <td>0.00</td>\n",
       "      <td>0.30</td>\n",
       "      <td>19.12</td>\n",
       "      <td>2.50</td>\n",
       "      <td>960.00</td>\n",
       "      <td>960.00</td>\n",
       "      <td>2.90</td>\n",
       "      <td>13.00</td>\n",
       "      <td>2.50</td>\n",
       "      <td>0.50</td>\n",
       "      <td>2.85</td>\n",
       "      <td>0.00</td>\n",
       "      <td>19.12</td>\n",
       "    </tr>\n",
       "    <tr>\n",
       "      <th>max</th>\n",
       "      <td>4.00</td>\n",
       "      <td>703.50</td>\n",
       "      <td>36.09</td>\n",
       "      <td>30.80</td>\n",
       "      <td>422.68</td>\n",
       "      <td>911.75</td>\n",
       "      <td>0.30</td>\n",
       "      <td>967.05</td>\n",
       "      <td>2.75</td>\n",
       "      <td>86,340.00</td>\n",
       "      <td>2,880.00</td>\n",
       "      <td>18.49</td>\n",
       "      <td>52.00</td>\n",
       "      <td>3.50</td>\n",
       "      <td>0.50</td>\n",
       "      <td>12.25</td>\n",
       "      <td>6.12</td>\n",
       "      <td>73.55</td>\n",
       "    </tr>\n",
       "  </tbody>\n",
       "</table>\n",
       "</div>"
      ],
      "text/plain": [
       "        payment_type  fare_amount        extra      mta_tax   tip_amount  \\\n",
       "count   2,308,850.00 2,308,850.00 2,308,850.00 2,308,850.00 2,308,850.00   \n",
       "unique           NaN          NaN          NaN          NaN          NaN   \n",
       "top              NaN          NaN          NaN          NaN          NaN   \n",
       "freq             NaN          NaN          NaN          NaN          NaN   \n",
       "mean            1.27        11.80         1.09         0.50         2.09   \n",
       "std             0.46         9.68         1.24         0.03         2.45   \n",
       "min             1.00         0.00         0.00         0.00         0.00   \n",
       "25%             1.00         6.50         0.00         0.50         0.00   \n",
       "50%             1.00         9.00         0.50         0.50         1.95   \n",
       "75%             2.00        13.00         2.50         0.50         2.85   \n",
       "max             4.00       703.50        36.09        30.80       422.68   \n",
       "\n",
       "        tolls_amount  improvement_surcharge  total_amount  \\\n",
       "count   2,308,850.00           2,308,850.00  2,308,850.00   \n",
       "unique           NaN                    NaN           NaN   \n",
       "top              NaN                    NaN           NaN   \n",
       "freq             NaN                    NaN           NaN   \n",
       "mean            0.25                   0.30         17.59   \n",
       "std             1.58                   0.00         12.02   \n",
       "min             0.00                   0.00          0.00   \n",
       "25%             0.00                   0.30         11.15   \n",
       "50%             0.00                   0.30         14.16   \n",
       "75%             0.00                   0.30         19.12   \n",
       "max           911.75                   0.30        967.05   \n",
       "\n",
       "        congestion_surcharge  duration_sec  clipped_duration_sec  \\\n",
       "count           2,308,850.00  2,308,850.00          2,308,850.00   \n",
       "unique                   NaN           NaN                   NaN   \n",
       "top                      NaN           NaN                   NaN   \n",
       "freq                     NaN           NaN                   NaN   \n",
       "mean                    2.32        733.94                719.90   \n",
       "std                     0.64        916.09                534.24   \n",
       "min                     0.00         60.00                 60.00   \n",
       "25%                     2.50        360.00                360.00   \n",
       "50%                     2.50        600.00                600.00   \n",
       "75%                     2.50        960.00                960.00   \n",
       "max                     2.75     86,340.00              2,880.00   \n",
       "\n",
       "        clipped_trip_distance  clipped_fare_amount  clipped_extra  \\\n",
       "count            2,308,850.00         2,308,850.00   2,308,850.00   \n",
       "unique                    NaN                  NaN            NaN   \n",
       "top                       NaN                  NaN            NaN   \n",
       "freq                      NaN                  NaN            NaN   \n",
       "mean                     2.72                11.73           1.09   \n",
       "std                      3.24                 9.24           1.23   \n",
       "min                      0.30                 3.50           0.00   \n",
       "25%                      1.00                 6.50           0.00   \n",
       "50%                      1.63                 9.00           0.50   \n",
       "75%                      2.90                13.00           2.50   \n",
       "max                     18.49                52.00           3.50   \n",
       "\n",
       "        clipped_mta_tax  clipped_tip_amount  clipped_tolls_amount  \\\n",
       "count      2,308,850.00        2,308,850.00          2,308,850.00   \n",
       "unique              NaN                 NaN                   NaN   \n",
       "top                 NaN                 NaN                   NaN   \n",
       "freq                NaN                 NaN                   NaN   \n",
       "mean               0.50                2.07                  0.23   \n",
       "std                0.00                2.16                  1.17   \n",
       "min                0.50                0.00                  0.00   \n",
       "25%                0.50                0.00                  0.00   \n",
       "50%                0.50                1.95                  0.00   \n",
       "75%                0.50                2.85                  0.00   \n",
       "max                0.50               12.25                  6.12   \n",
       "\n",
       "        clipped_total_amount  \n",
       "count           2,308,850.00  \n",
       "unique                   NaN  \n",
       "top                      NaN  \n",
       "freq                     NaN  \n",
       "mean                   17.52  \n",
       "std                    11.46  \n",
       "min                     6.62  \n",
       "25%                    11.15  \n",
       "50%                    14.16  \n",
       "75%                    19.12  \n",
       "max                    73.55  "
      ]
     },
     "execution_count": 41,
     "metadata": {},
     "output_type": "execute_result"
    }
   ],
   "source": [
    "pd.options.display.float_format='{:,.2f}'.format\n",
    "initial_trimmed.describe(include='all').iloc[:,18:]"
   ]
  },
  {
   "cell_type": "markdown",
   "metadata": {},
   "source": [
    "Having a look at the max values from clipped_columns in the table above, we see outliers values have been dealt with rather okay"
   ]
  },
  {
   "cell_type": "markdown",
   "metadata": {},
   "source": [
    "## Data transformation"
   ]
  },
  {
   "cell_type": "markdown",
   "metadata": {},
   "source": [
    "### explore the data by univariate and multivariate graphical representation"
   ]
  },
  {
   "cell_type": "code",
   "execution_count": 118,
   "metadata": {},
   "outputs": [
    {
     "data": {
      "image/png": "[encoded data removed]",
      "text/plain": [
       "<Figure size 1080x576 with 8 Axes>"
      ]
     },
     "metadata": {},
     "output_type": "display_data"
    }
   ],
   "source": [
    "    # Univariate graphical representation:\n",
    "fig, ax= plt.subplots(2,4,figsize=(15,8))\n",
    "for j in np.arange(0,2):\n",
    "    for i in np.arange(0,4):\n",
    "        if (j==0):\n",
    "            col= outliers_col_names[i]\n",
    "        else:\n",
    "            col=outliers_col_names[i+4]\n",
    "        axNe= ax[j,i]\n",
    "        sns.histplot(initial_trimmed['clipped_'+col], bins=10,color= sns.color_palette('deep')[0], ax=axNe)\n",
    "        axNe.yaxis.set_major_formatter(formatter)\n",
    "        axNe.xaxis.set_major_formatter(formatter)\n",
    "plt.tight_layout()\n",
    "plt.show()\n"
   ]
  },
  {
   "cell_type": "markdown",
   "metadata": {},
   "source": [
    "From the marginal distribution of the columns, we could observe that:\n",
    "\n",
    "+ almost all trips do not travel further than 10 miles. It is sensible in the sense that within a city, people often hail a taxi only for short trip: to move around some popular destinations in the central business district or around the entertainment district. There is also a smaller proportion of trips  whose distances are more than 10 miles. They could very likely to be the ones heading to one of the international airports at NYC. Since the airports are often located quite far away from the business center, these trips often have larger distance. \n",
    "\n",
    "\n",
    "+ not only the trip_distance hovers around 0, the majority of duration, fare_amount, tip_amount, toll_amount, and total_amount values also concentrate a lot of mass at the region close to 0. This is reasonable since these factors could be explained by the trip_distance. The further the trip is, the longer it takes. The further and long the trip is, the more amount of fare and tip that could be paid.\n",
    "\n",
    "\n",
    "+ the mta_tax seems to be fixed. So it does not change much no matter how far or how long the trip could take\n",
    "\n"
   ]
  },
  {
   "cell_type": "markdown",
   "metadata": {},
   "source": [
    "##### Now, let's inspect whether there is any difference in the duration of a trip between weekend and weekday"
   ]
  },
  {
   "cell_type": "code",
   "execution_count": 48,
   "metadata": {},
   "outputs": [
    {
     "name": "stderr",
     "output_type": "stream",
     "text": [
      "C:\\Users\\ADMIN\\anaconda3\\lib\\site-packages\\seaborn\\axisgrid.py:670: UserWarning: Using the boxplot function without specifying `order` is likely to produce an incorrect plot.\n",
      "  warnings.warn(warning)\n"
     ]
    },
    {
     "data": {
      "image/png": "[encoded data removed]",
      "text/plain": [
       "<Figure size 432x432 with 1 Axes>"
      ]
     },
     "metadata": {},
     "output_type": "display_data"
    }
   ],
   "source": [
    "g= sns.FacetGrid(data=initial_trimmed,height=6)\n",
    "g.map(sns.boxplot,'PUweekend','clipped_duration_sec', color=sns.color_palette('deep')[0])\n",
    "g.set(title='Difference in the duration between weekday and weekend')\n",
    "g.set_axis_labels('Weekend or not', 'Seconds')\n",
    "plt.tight_layout()\n",
    "plt.show()"
   ]
  },
  {
   "cell_type": "markdown",
   "metadata": {},
   "source": [
    "From the boxplot, we could visually see there seems to have a slightly lower quantiles(25th, median, 75th) in the duration of trips during weekend. \n",
    "\n",
    "This is interesting.\n",
    "\n",
    "An initial guess could be that there are multi purposes when taking a taxi trip: commuters travel from their residential areas to the business centre, businessmen travel from and to the international airports, people who just GO OUT for entertaining purpose. During weekend, the purpose seems to be less various: most of people just hang out within the city center where most of the exiciting places are located\n",
    "As a result, the trip having larger distance may take longer. \n",
    "\n",
    "Another reason could be that during weekday, the traffic congestion within a city is likelier to happen compared against the weekend, which makes for longer duration for the "
   ]
  },
  {
   "cell_type": "markdown",
   "metadata": {},
   "source": [
    "##### Let's confirm the thinking by having a look at the difference in the trip distance between weekend and weekday"
   ]
  },
  {
   "cell_type": "code",
   "execution_count": 51,
   "metadata": {},
   "outputs": [
    {
     "name": "stderr",
     "output_type": "stream",
     "text": [
      "C:\\Users\\ADMIN\\anaconda3\\lib\\site-packages\\seaborn\\axisgrid.py:670: UserWarning: Using the boxplot function without specifying `order` is likely to produce an incorrect plot.\n",
      "  warnings.warn(warning)\n"
     ]
    },
    {
     "data": {
      "image/png": "[encoded data removed]",
      "text/plain": [
       "<Figure size 432x432 with 1 Axes>"
      ]
     },
     "metadata": {},
     "output_type": "display_data"
    }
   ],
   "source": [
    "g= sns.FacetGrid(data=initial_trimmed,height=6)\n",
    "g.map(sns.boxplot,'PUweekend','clipped_trip_distance', color=sns.color_palette('deep')[0])\n",
    "g.set(title='Difference in the trip distance between weekday and weekend')\n",
    "g.set_axis_labels('Weekend or not', 'Miles')\n",
    "plt.tight_layout()\n",
    "plt.show()"
   ]
  },
  {
   "cell_type": "markdown",
   "metadata": {},
   "source": [
    "Well, our first reasoning does not seem to hold anymore. We perceived that quantiles of trip distance during weekend are higher than those during weekday.\n",
    "\n",
    "But the second reasoning is still reasonable. Maybe the difference in the level of traffic jam is the cause of longer duration during weekday"
   ]
  },
  {
   "cell_type": "markdown",
   "metadata": {},
   "source": [
    "##### Next, is there more trips on any specific  day during a week?"
   ]
  },
  {
   "cell_type": "code",
   "execution_count": 53,
   "metadata": {},
   "outputs": [],
   "source": [
    "numTripByDay= initial_trimmed.groupby(['PUweekday'])['clipped_trip_distance'].count().reset_index()"
   ]
  },
  {
   "cell_type": "code",
   "execution_count": 55,
   "metadata": {},
   "outputs": [
    {
     "data": {
      "image/png": "[encoded data removed]",
      "text/plain": [
       "<Figure size 432x432 with 1 Axes>"
      ]
     },
     "metadata": {},
     "output_type": "display_data"
    }
   ],
   "source": [
    "g= sns.FacetGrid(data=numTripByDay, height=6)\n",
    "g.map(sns.barplot, 'PUweekday','clipped_trip_distance',order='Mon Tue Wed Thu Fri Sat Sun'.split(), color=sns.color_palette('deep')[0])\n",
    "g.set(title='Number of trips by day during a week')\n",
    "g.set_axis_labels('Day of the week','Number of trips')\n",
    "g.axes[0][0].yaxis.set_major_formatter(formatter)\n",
    "plt.tight_layout()\n",
    "plt.show()"
   ]
  },
  {
   "cell_type": "markdown",
   "metadata": {},
   "source": [
    "The pattern looks compelling. \n",
    "\n",
    "It seems like the end of the week(i.e: Saturday and Sunday) and the start of the week(i.e:Monday) witness fewer number of people taking taxi trips. \n",
    "\n",
    "Well, for weekend, commuters  may prefer opting for staying at home and recharging themselves before the new week. As a results, there are fewer number of taxi trips.\n",
    "\n",
    "As for Monday, it is just the first day of the week. Maybe there is some lingering feeling of having a day off, still being slack off a bit"
   ]
  },
  {
   "cell_type": "markdown",
   "metadata": {},
   "source": [
    "##### What are the peak hours when there are the large number of trips?"
   ]
  },
  {
   "cell_type": "code",
   "execution_count": 56,
   "metadata": {},
   "outputs": [],
   "source": [
    "numTripByHour= initial_trimmed.groupby(['PUweekend','PUhour'])['clipped_trip_distance'].agg('count').reset_index()"
   ]
  },
  {
   "cell_type": "code",
   "execution_count": 57,
   "metadata": {},
   "outputs": [
    {
     "name": "stderr",
     "output_type": "stream",
     "text": [
      "C:\\Users\\ADMIN\\anaconda3\\lib\\site-packages\\seaborn\\axisgrid.py:670: UserWarning: Using the pointplot function without specifying `order` is likely to produce an incorrect plot.\n",
      "  warnings.warn(warning)\n",
      "C:\\Users\\ADMIN\\anaconda3\\lib\\site-packages\\seaborn\\axisgrid.py:675: UserWarning: Using the pointplot function without specifying `hue_order` is likely to produce an incorrect plot.\n",
      "  warnings.warn(warning)\n"
     ]
    },
    {
     "data": {
      "image/png": "[encoded data removed]",
      "text/plain": [
       "<Figure size 432x432 with 1 Axes>"
      ]
     },
     "metadata": {},
     "output_type": "display_data"
    }
   ],
   "source": [
    "g= sns.FacetGrid(data=numTripByHour,height=6,  legend_out=False)\n",
    "g.map(sns.pointplot,'PUhour','clipped_trip_distance','PUweekend', palette=sns.color_palette('husl'))\n",
    "g.add_legend(title='Weekend or not')\n",
    "g.set(title='Number of trips by hour')\n",
    "g.set_axis_labels('Hour','Number of trips')\n",
    "ax=g.axes[0][0]\n",
    "ax.set_xlim(0,25)\n",
    "ax.yaxis.set_major_formatter(formatter)\n",
    "plt.locator_params(axis='x',nbins=12)\n",
    "ax.text(8,110000,'Go to work',ha='center',\n",
    "        size=10,\n",
    "        bbox=dict(boxstyle='round,pad=.2',fc='white',ec='red'))\n",
    "ax.text(18,147000,'Get out of work', ha='center',\n",
    "        size=10,\n",
    "        bbox=dict(boxstyle='round,pad=.5',fc='white',ec='blue'))\n",
    "plt.tight_layout()\n",
    "plt.show()"
   ]
  },
  {
   "cell_type": "markdown",
   "metadata": {},
   "source": [
    "From the point plot, we could tell that during weekend, there is not much difference in the number of trips by hours. On the other hand, speaking of the weekday, we could spot straight away that at 8am and 6pm, there are sudden peaks in the number of trips. \n",
    "\n",
    "A possible explanation for them could be that at these specific times in a day, commuters start off to going to work and getting out of work respectively"
   ]
  },
  {
   "cell_type": "markdown",
   "metadata": {},
   "source": [
    "##### Is there any difference in proportion of the payment type by weekend and weekday?"
   ]
  },
  {
   "cell_type": "code",
   "execution_count": 58,
   "metadata": {},
   "outputs": [],
   "source": [
    "#Count the total number of each type of payment on the basis of being weekend or not\n",
    "countPaymentType= initial_trimmed.groupby(['PUweekend','payment_type'])['clipped_trip_distance'].agg('count').reset_index()\n",
    "countPaymentType.rename({'clipped_trip_distance':'count_payment_type'}, axis=1, inplace=True)\n",
    "\n",
    "# Compute the proportion of the number of each type of payment\n",
    "total_trips= countPaymentType.groupby('PUweekend')['count_payment_type'].transform('sum')\n",
    "countPaymentType['total_trips']=total_trips\n",
    "countPaymentType['proportion_payment_type']=(countPaymentType['count_payment_type']/countPaymentType['total_trips'])*100"
   ]
  },
  {
   "cell_type": "code",
   "execution_count": 59,
   "metadata": {},
   "outputs": [
    {
     "name": "stderr",
     "output_type": "stream",
     "text": [
      "C:\\Users\\ADMIN\\anaconda3\\lib\\site-packages\\seaborn\\axisgrid.py:670: UserWarning: Using the barplot function without specifying `order` is likely to produce an incorrect plot.\n",
      "  warnings.warn(warning)\n",
      "C:\\Users\\ADMIN\\anaconda3\\lib\\site-packages\\seaborn\\axisgrid.py:675: UserWarning: Using the barplot function without specifying `hue_order` is likely to produce an incorrect plot.\n",
      "  warnings.warn(warning)\n"
     ]
    },
    {
     "data": {
      "image/png": "[encoded data removed]",
      "text/plain": [
       "<Figure size 510.75x432 with 1 Axes>"
      ]
     },
     "metadata": {},
     "output_type": "display_data"
    }
   ],
   "source": [
    "g= sns.FacetGrid(data=countPaymentType, height=6)\n",
    "g.map(sns.barplot,'payment_type','proportion_payment_type','PUweekend', palette=sns.color_palette('husl'))\n",
    "g.set(title='The proportion of type of payment')\n",
    "g.set_axis_labels('Type of payment','Percentage')\n",
    "g.set_xticklabels(['Credit card','Cash','No charge','Dispute'])\n",
    "g.add_legend(title='Weekend or not')\n",
    "plt.tight_layout()\n",
    "plt.show()"
   ]
  },
  {
   "cell_type": "markdown",
   "metadata": {},
   "source": [
    "From the clustered barplot above, we could tell that:\n",
    "\n",
    "+ whether it is weekend or not, the tendency to opt for the payment type of customers does not vary. \n",
    "\n",
    "\n",
    "+ credit card turns out to be preferred to cash"
   ]
  },
  {
   "cell_type": "markdown",
   "metadata": {},
   "source": [
    "##### What is the change in the number of trips by months?"
   ]
  },
  {
   "cell_type": "code",
   "execution_count": 60,
   "metadata": {},
   "outputs": [],
   "source": [
    "numTripsMonth=initial_trimmed.groupby('PUmonth')['clipped_trip_distance'].agg('count').reset_index()"
   ]
  },
  {
   "cell_type": "code",
   "execution_count": 61,
   "metadata": {},
   "outputs": [],
   "source": [
    "numTripsMonth.rename({'clipped_trip_distance':'numTrips'},axis=1, inplace=True)"
   ]
  },
  {
   "cell_type": "code",
   "execution_count": 62,
   "metadata": {},
   "outputs": [
    {
     "data": {
      "image/png": "[encoded data removed]",
      "text/plain": [
       "<Figure size 432x432 with 1 Axes>"
      ]
     },
     "metadata": {},
     "output_type": "display_data"
    }
   ],
   "source": [
    "g= sns.FacetGrid(data=numTripsMonth,height=6)\n",
    "g.map(sns.lineplot,'PUmonth','numTrips', color=sns.color_palette('deep')[0])\n",
    "g.set(title='Number of trips per month')\n",
    "g.set_axis_labels('Month','Number of trips')\n",
    "g.axes[0][0].yaxis.set_major_formatter(formatter)\n",
    "plt.locator_params(axis='x',nbins=24)\n",
    "plt.tight_layout()\n",
    "plt.show()"
   ]
  },
  {
   "cell_type": "markdown",
   "metadata": {},
   "source": [
    "Obviously, there is a tumble in the number of trips in the first quarter 2020 and it hit the bottom at the start of April. \n",
    "\n",
    "It could be explained by the fact that on March 20, 2020, the New York State has put the city on lockdown. The transportation needs dropped sharply as a result of that.\n",
    "\n",
    "Later, the restrictions has been relaxed a bit and the city was opened again through a campaign of multiple phases. This led to the number of trips rose again. But the rise is rather gradual rather than sudden "
   ]
  },
  {
   "cell_type": "markdown",
   "metadata": {},
   "source": [
    "### engineer features"
   ]
  },
  {
   "cell_type": "markdown",
   "metadata": {},
   "source": [
    "#### add useful columns"
   ]
  },
  {
   "cell_type": "markdown",
   "metadata": {},
   "source": [
    "##### Categorical encoding"
   ]
  },
  {
   "cell_type": "code",
   "execution_count": 63,
   "metadata": {},
   "outputs": [],
   "source": [
    "# Create dummies columns for payment_type\n",
    "pay= pd.get_dummies(initial_trimmed['payment_type'],drop_first=True)\n",
    "payname= pay.rename(columns=dict(zip(np.arange(2,5),['payCash','payNoCharge','payDispute'])))"
   ]
  },
  {
   "cell_type": "code",
   "execution_count": 64,
   "metadata": {},
   "outputs": [],
   "source": [
    "# Create dummies column for RatecodeID\n",
    "rate= pd.get_dummies(initial_trimmed['RatecodeID'],drop_first=True)\n",
    "ratename = rate.rename(columns=dict(zip(np.arange(2,7),['r2','r3','r4','r5','r6'])))"
   ]
  },
  {
   "cell_type": "code",
   "execution_count": 80,
   "metadata": {},
   "outputs": [
    {
     "name": "stderr",
     "output_type": "stream",
     "text": [
      "C:\\Users\\ADMIN\\anaconda3\\lib\\site-packages\\sklearn\\utils\\validation.py:63: DataConversionWarning: A column-vector y was passed when a 1d array was expected. Please change the shape of y to (n_samples, ), for example using ravel().\n",
      "  return f(*args, **kwargs)\n"
     ]
    }
   ],
   "source": [
    "# Label encoding for categorical variable: day\n",
    "encoder= LabelEncoder()\n",
    "PUdayEncoded=pd.Series(encoder.fit_transform(initial_trimmed[['PUday']]),name='PUdayEncoded', index=initial_trimmed.index)\n",
    "DOdayEncoded=pd.Series(encoder.fit_transform(initial_trimmed[['DOday']]),name='DOdayEncoded',index=initial_trimmed.index)"
   ]
  },
  {
   "cell_type": "code",
   "execution_count": 104,
   "metadata": {},
   "outputs": [],
   "source": [
    "initial_trimmed_encoded= pd.concat((initial_trimmed,ratename,payname,PUdayEncoded,DOdayEncoded),axis=1)"
   ]
  },
  {
   "cell_type": "markdown",
   "metadata": {},
   "source": [
    "##### Numeric features transforming"
   ]
  },
  {
   "cell_type": "markdown",
   "metadata": {},
   "source": [
    "As for the cyclic property of month, day, hour, we should do sin cos transform to be able to capture that"
   ]
  },
  {
   "cell_type": "code",
   "execution_count": 105,
   "metadata": {},
   "outputs": [],
   "source": [
    "#sine cosine transform\n",
    "initial_trimmed_encoded['PUhoursin']= np.sin(initial_trimmed_encoded['PUhour']*(2.*np.pi/24)) #sin(radians)=>coordinate values on Oy\n",
    "initial_trimmed_encoded['PUhourcos']= np.cos(initial_trimmed_encoded['PUhour']*(2.*np.pi/24)) #cos(radians)=>coordinate values on Ox\n",
    "initial_trimmed_encoded['DOhoursin']= np.sin(initial_trimmed_encoded['DOhour']*(2.*np.pi/24)) \n",
    "initial_trimmed_encoded['DOhourcos']= np.cos(initial_trimmed_encoded['DOhour']*(2.*np.pi/24)) \n",
    "\n",
    "\n",
    "initial_trimmed_encoded['PUdaysin']= np.sin(initial_trimmed_encoded['PUdayEncoded']*(2.*np.pi/7))\n",
    "initial_trimmed_encoded['PUdaycos']= np.cos(initial_trimmed_encoded['PUdayEncoded']*(2.*np.pi/7))\n",
    "initial_trimmed_encoded['DOdaysin']= np.sin(initial_trimmed_encoded['DOdayEncoded']*(2.*np.pi/7))\n",
    "initial_trimmed_encoded['DOdaycos']= np.cos(initial_trimmed_encoded['DOdayEncoded']*(2.*np.pi/7))\n",
    "\n",
    "\n",
    "initial_trimmed_encoded['PUmonthsin']= np.sin(initial_trimmed_encoded['PUmonth']*(2.*np.pi/12))\n",
    "initial_trimmed_encoded['PUmonthcos']= np.cos(initial_trimmed_encoded['PUmonth']*(2.*np.pi/12))\n",
    "initial_trimmed_encoded['DOmonthsin']= np.sin(initial_trimmed_encoded['DOmonth']*(2.*np.pi/12))\n",
    "initial_trimmed_encoded['DOmonthcos']= np.cos(initial_trimmed_encoded['DOmonth']*(2.*np.pi/12))\n"
   ]
  },
  {
   "cell_type": "markdown",
   "metadata": {},
   "source": [
    "For the longitude and latitude of locations, it is better to convert them into the distance between the pick up and drop off points. The distance itself between two places is more intuitive and would be more helpful in doing the fare amount prediction or trip distance prediction.\n",
    "\n",
    "Here I identified some tourist attractions which are used as the reference places and compute the distance by calling on Harversine distance formula. \n",
    "\n",
    "The details of the formulation could be found here:\n",
    "https://community.esri.com/t5/coordinate-reference-systems-blog/distance-on-a-sphere-the-haversine-formula/ba-p/902128\n",
    "\n"
   ]
  },
  {
   "cell_type": "code",
   "execution_count": 84,
   "metadata": {},
   "outputs": [
    {
     "data": {
      "text/plain": [
       "[[-1.2877039221214164, 0.7093018080104956],\n",
       " [-1.2945107062041943, 0.7110471372624899],\n",
       " [-1.2913691135506042, 0.7113962031128886],\n",
       " [-1.2917181794010033, 0.7105235384868915],\n",
       " [-1.2904964489246071, 0.7124434006640853]]"
      ]
     },
     "execution_count": 84,
     "metadata": {},
     "output_type": "execute_result"
    }
   ],
   "source": [
    "def detora(List):\n",
    "    \"\"\"\n",
    "    The function converts decimal coordinates to radians coordinates for each specific place\n",
    "    It requires a list of 2-tuple(decimal longitude, decimal latitude) as the argument.\n",
    "    It returns the list of 2-tuple (radians longitude, radians latitude)\n",
    "    \"\"\"\n",
    "    res=[]\n",
    "    for i in List:\n",
    "        listc= list(map(radians,i))\n",
    "        res.append(listc)\n",
    "    return res\n",
    "\n",
    "#coordinates of some specific places\n",
    "    #JFKairport\n",
    "JFKairport= (-73.78, 40.64)\n",
    "    #NWairport\n",
    "NWairport=(-74.17, 40.74)\n",
    "    #Timesquare \n",
    "Timesquare = (-73.99,40.76)\n",
    "    #WorldTradeCente\n",
    "Wtc=  (-74.01,40.71)\n",
    "    #BankofAmerica\n",
    "Boa = (-73.94, 40.82)\n",
    "\n",
    "L= [JFKairport, NWairport, Timesquare, Wtc, Boa]\n",
    "\n",
    "listPlaces= detora(L)\n",
    "listPlaces"
   ]
  },
  {
   "cell_type": "code",
   "execution_count": 109,
   "metadata": {},
   "outputs": [],
   "source": [
    "# convert decimal lon lat to radians for PUlon  PUlat , DOlon, DOlat\n",
    "initial_trimmed_encoded['PUlonra']= np.radians(initial_trimmed_encoded['PUlon'])\n",
    "initial_trimmed_encoded['PUlatra']= np.radians(initial_trimmed_encoded['PUlat'])\n",
    "initial_trimmed_encoded['DOlonra']= np.radians(initial_trimmed_encoded['DOlon'])\n",
    "initial_trimmed_encoded['DOlatra']= np.radians(initial_trimmed_encoded['DOlat'])"
   ]
  },
  {
   "cell_type": "code",
   "execution_count": 86,
   "metadata": {},
   "outputs": [],
   "source": [
    "def haversineindf(df):\n",
    "    \"\"\"\n",
    "    Function computes the Harvesine distance between the datapoints and each specific place in the listPlaces.\n",
    "    It requires a dataframe having 1 column. This is used to concatenate with the results.\n",
    "    Function returns a dataframe of Harvesine distance\n",
    "    \"\"\"\n",
    "    for i in np.arange(0,len(listPlaces)):\n",
    "        \n",
    "        lon1=listPlaces[i][0]\n",
    "        lon2=initial_trimmed_encoded['PUlonra']\n",
    "        \n",
    "        lat1= listPlaces[i][1]\n",
    "        lat2= initial_trimmed_encoded['PUlatra']\n",
    "        \n",
    "        deltaLon= lon2-lon1\n",
    "        deltaLat= lat2-lat1\n",
    "        \n",
    "        a= np.sin(deltaLat/2)**2 + np.cos(lat2) * np.cos(lat1) * np.sin(deltaLon/2)**2\n",
    "        c= 2*np.arctan2(np.sqrt(a), np.sqrt(1-a))\n",
    "        miles=c*3956\n",
    "        \n",
    "        miles=miles.rename(i)\n",
    "        df= pd.concat((df,miles),axis=1)\n",
    "    return df"
   ]
  },
  {
   "cell_type": "code",
   "execution_count": 88,
   "metadata": {},
   "outputs": [],
   "source": [
    "def haversineindfpd(df):\n",
    "    \"\"\"\n",
    "    Function computes the Harvesine distance between the pick up point and drop off point.\n",
    "    It requires a dataframe having 1 column. This is used to concatenate with the results. \n",
    "    Function returns a dataframe of Harvesine distance\n",
    "    \"\"\"\n",
    "    lon1=initial_trimmed_encoded['DOlonra']\n",
    "    lon2=initial_trimmed_encoded['PUlonra']\n",
    "    \n",
    "    lat1=initial_trimmed_encoded['DOlatra']\n",
    "    lat2=initial_trimmed_encoded['PUlatra']\n",
    "    \n",
    "    deltaLon= lon2-lon1\n",
    "    deltaLat= lat2 - lat1\n",
    "    \n",
    "    a= np.sin(deltaLat/2)**2 + np.cos(lat2) * np.cos(lat1) * np.sin(deltaLon/2)**2\n",
    "    c= 2*np.arctan2(np.sqrt(a),np.sqrt(1-a))\n",
    "    miles=c*3956\n",
    "    \n",
    "    df= pd.concat((df,miles),axis=1)\n",
    "    return df"
   ]
  },
  {
   "cell_type": "code",
   "execution_count": 110,
   "metadata": {},
   "outputs": [],
   "source": [
    "s1= pd.DataFrame(np.zeros(len(initial_trimmed_encoded.index)),index=initial_trimmed_encoded.index)\n",
    "predf= haversineindf(s1)\n",
    "predfpd= haversineindfpd(s1)"
   ]
  },
  {
   "cell_type": "code",
   "execution_count": 111,
   "metadata": {},
   "outputs": [],
   "source": [
    "# select only the columns showing the distance between two locations\n",
    "df=predf.iloc[:,1::]\n",
    "dfpd=predfpd.iloc[:,1::]"
   ]
  },
  {
   "cell_type": "code",
   "execution_count": 112,
   "metadata": {},
   "outputs": [],
   "source": [
    "dfname=df.rename(columns=dict(enumerate('tojfk tonw totimes towtc toboa'.split())))\n",
    "dfpdname=dfpd.rename(columns={0:'pd'})"
   ]
  },
  {
   "cell_type": "code",
   "execution_count": 113,
   "metadata": {},
   "outputs": [],
   "source": [
    "Xfull= pd.concat((initial_trimmed_encoded,dfname, dfpdname),axis=1)"
   ]
  },
  {
   "cell_type": "markdown",
   "metadata": {},
   "source": [
    "#### select only useful and relevant columns"
   ]
  },
  {
   "cell_type": "code",
   "execution_count": 115,
   "metadata": {},
   "outputs": [],
   "source": [
    "Xfull.drop(['PUlon', 'PUlat', 'DOlon', 'DOlat', 'PUmonth', 'PUhour', 'DOmonth',\n",
    "       'DOhour', 'PUday', 'DOday', 'duration',\n",
    "        'trip_distance', 'RatecodeID', 'PULocationID','PUdayEncoded', 'DOdayEncoded',\n",
    "       'DOLocationID', 'payment_type', 'fare_amount', 'extra', 'mta_tax',\n",
    "       'tip_amount', 'tolls_amount',  'total_amount',\n",
    "       'duration_sec','PUlonra', 'PUlatra', 'DOlonra', 'DOlatra'],axis=1, inplace=True)"
   ]
  },
  {
   "cell_type": "code",
   "execution_count": 196,
   "metadata": {},
   "outputs": [
    {
     "name": "stdout",
     "output_type": "stream",
     "text": [
      "<class 'pandas.core.frame.DataFrame'>\n",
      "Int64Index: 2308850 entries, 0 to 2383892\n",
      "Data columns (total 39 columns):\n",
      " #   Column                 Dtype  \n",
      "---  ------                 -----  \n",
      " 0   PUweekend              int64  \n",
      " 1   DOweekend              int64  \n",
      " 2   passenger_count        int64  \n",
      " 3   improvement_surcharge  float64\n",
      " 4   congestion_surcharge   float64\n",
      " 5   clipped_duration_sec   float64\n",
      " 6   clipped_trip_distance  float64\n",
      " 7   clipped_fare_amount    float64\n",
      " 8   clipped_extra          float64\n",
      " 9   clipped_mta_tax        float64\n",
      " 10  clipped_tip_amount     float64\n",
      " 11  clipped_tolls_amount   float64\n",
      " 12  clipped_total_amount   float64\n",
      " 13  r2                     uint8  \n",
      " 14  r3                     uint8  \n",
      " 15  r4                     uint8  \n",
      " 16  r5                     uint8  \n",
      " 17  r6                     uint8  \n",
      " 18  payCash                uint8  \n",
      " 19  payNoCharge            uint8  \n",
      " 20  payDispute             uint8  \n",
      " 21  PUhoursin              float64\n",
      " 22  PUhourcos              float64\n",
      " 23  DOhoursin              float64\n",
      " 24  DOhourcos              float64\n",
      " 25  PUdaysin               float64\n",
      " 26  PUdaycos               float64\n",
      " 27  DOdaysin               float64\n",
      " 28  DOdaycos               float64\n",
      " 29  PUmonthsin             float64\n",
      " 30  PUmonthcos             float64\n",
      " 31  DOmonthsin             float64\n",
      " 32  DOmonthcos             float64\n",
      " 33  tojfk                  float64\n",
      " 34  tonw                   float64\n",
      " 35  totimes                float64\n",
      " 36  towtc                  float64\n",
      " 37  toboa                  float64\n",
      " 38  pd                     float64\n",
      "dtypes: float64(28), int64(3), uint8(8)\n",
      "memory usage: 581.3 MB\n"
     ]
    }
   ],
   "source": [
    "Xfull.info()"
   ]
  },
  {
   "cell_type": "markdown",
   "metadata": {},
   "source": [
    "# FEATURE SCALING AND PREDICTION "
   ]
  },
  {
   "cell_type": "markdown",
   "metadata": {},
   "source": [
    "Due to having a rather large feature design matrix(multiple features and millions of rows), the closed-form formula to work out the coefficients of effects of features suffer from computational complexity. \n",
    "\n",
    "That is why we tried to work out the coefficients of parameters by using the gradient descent  i.e: SGDRegressor and SGDClassifier"
   ]
  },
  {
   "cell_type": "markdown",
   "metadata": {},
   "source": [
    "### Predict trip distance \n",
    "(using only the information available at hand at the start of the trip)"
   ]
  },
  {
   "cell_type": "code",
   "execution_count": 117,
   "metadata": {},
   "outputs": [],
   "source": [
    "ya=Xfull['clipped_trip_distance']"
   ]
  },
  {
   "cell_type": "code",
   "execution_count": 118,
   "metadata": {},
   "outputs": [],
   "source": [
    "Xa= Xfull.drop(['clipped_trip_distance','pd','clipped_duration_sec','passenger_count','payCash','payNoCharge','payDispute','r2','r3','r4','r5','r6',\n",
    "       'clipped_fare_amount', 'clipped_extra', 'clipped_mta_tax', 'clipped_tip_amount', 'clipped_tolls_amount',\n",
    "       'improvement_surcharge', 'clipped_total_amount', 'congestion_surcharge',\n",
    "       'DOweekend','DOhoursin', 'DOhourcos','DOdaysin','DOdaycos','DOmonthsin','DOmonthcos'],axis=1)\n"
   ]
  },
  {
   "cell_type": "code",
   "execution_count": 189,
   "metadata": {},
   "outputs": [
    {
     "name": "stdout",
     "output_type": "stream",
     "text": [
      "Features used are as follows\n"
     ]
    },
    {
     "data": {
      "text/html": [
       "<div>\n",
       "<style scoped>\n",
       "    .dataframe tbody tr th:only-of-type {\n",
       "        vertical-align: middle;\n",
       "    }\n",
       "\n",
       "    .dataframe tbody tr th {\n",
       "        vertical-align: top;\n",
       "    }\n",
       "\n",
       "    .dataframe thead th {\n",
       "        text-align: right;\n",
       "    }\n",
       "</style>\n",
       "<table border=\"1\" class=\"dataframe\">\n",
       "  <thead>\n",
       "    <tr style=\"text-align: right;\">\n",
       "      <th></th>\n",
       "      <th>Features</th>\n",
       "    </tr>\n",
       "  </thead>\n",
       "  <tbody>\n",
       "    <tr>\n",
       "      <th>0</th>\n",
       "      <td>PUweekend</td>\n",
       "    </tr>\n",
       "    <tr>\n",
       "      <th>1</th>\n",
       "      <td>PUhoursin</td>\n",
       "    </tr>\n",
       "    <tr>\n",
       "      <th>2</th>\n",
       "      <td>PUhourcos</td>\n",
       "    </tr>\n",
       "    <tr>\n",
       "      <th>3</th>\n",
       "      <td>PUdaysin</td>\n",
       "    </tr>\n",
       "    <tr>\n",
       "      <th>4</th>\n",
       "      <td>PUdaycos</td>\n",
       "    </tr>\n",
       "    <tr>\n",
       "      <th>5</th>\n",
       "      <td>PUmonthsin</td>\n",
       "    </tr>\n",
       "    <tr>\n",
       "      <th>6</th>\n",
       "      <td>PUmonthcos</td>\n",
       "    </tr>\n",
       "    <tr>\n",
       "      <th>7</th>\n",
       "      <td>tojfk</td>\n",
       "    </tr>\n",
       "    <tr>\n",
       "      <th>8</th>\n",
       "      <td>tonw</td>\n",
       "    </tr>\n",
       "    <tr>\n",
       "      <th>9</th>\n",
       "      <td>totimes</td>\n",
       "    </tr>\n",
       "    <tr>\n",
       "      <th>10</th>\n",
       "      <td>towtc</td>\n",
       "    </tr>\n",
       "    <tr>\n",
       "      <th>11</th>\n",
       "      <td>toboa</td>\n",
       "    </tr>\n",
       "  </tbody>\n",
       "</table>\n",
       "</div>"
      ],
      "text/plain": [
       "      Features\n",
       "0    PUweekend\n",
       "1    PUhoursin\n",
       "2    PUhourcos\n",
       "3     PUdaysin\n",
       "4     PUdaycos\n",
       "5   PUmonthsin\n",
       "6   PUmonthcos\n",
       "7        tojfk\n",
       "8         tonw\n",
       "9      totimes\n",
       "10       towtc\n",
       "11       toboa"
      ]
     },
     "execution_count": 189,
     "metadata": {},
     "output_type": "execute_result"
    }
   ],
   "source": [
    "print('Features used are as follows')\n",
    "pd.Series(Xa.columns.values, name='Features').to_frame()"
   ]
  },
  {
   "cell_type": "code",
   "execution_count": 173,
   "metadata": {},
   "outputs": [],
   "source": [
    "#split the dataset into train set and test set\n",
    "Xtrain,Xtest,ytraina,ytesta= train_test_split(Xa,ya,test_size=0.2, random_state= 0)"
   ]
  },
  {
   "cell_type": "code",
   "execution_count": 174,
   "metadata": {},
   "outputs": [],
   "source": [
    "#Scale the features to get shot of any misleading weights allocated for some features\n",
    "transformer_x = RobustScaler().fit(Xtrain)\n",
    "Xtraina_trans = pd.DataFrame(transformer_x.transform(Xtrain), index=Xtrain.index, columns=Xtrain.columns)\n",
    "Xtesta_trans = pd.DataFrame(transformer_x.transform(Xtest), index=Xtest.index, columns=Xtest.columns)"
   ]
  },
  {
   "cell_type": "code",
   "execution_count": 175,
   "metadata": {},
   "outputs": [],
   "source": [
    "#Conduct cross-validation to work out which model, which hyperparameters to use\n",
    "modelhya= SGDRegressor(random_state=0)\n",
    "hyperparameters= {'loss':['squared_loss','huber','epsilon_insensitive'], 'alpha': np.linspace(0,0.001, 3)} "
   ]
  },
  {
   "cell_type": "code",
   "execution_count": 176,
   "metadata": {},
   "outputs": [],
   "source": [
    "grid= GridSearchCV(modelhya, hyperparameters, cv=5, scoring='neg_root_mean_squared_error',n_jobs=-1 )"
   ]
  },
  {
   "cell_type": "code",
   "execution_count": 177,
   "metadata": {},
   "outputs": [
    {
     "data": {
      "text/plain": [
       "GridSearchCV(cv=5, estimator=SGDRegressor(random_state=0), n_jobs=-1,\n",
       "             param_grid={'alpha': array([0.    , 0.0005, 0.001 ]),\n",
       "                         'loss': ['squared_loss', 'huber',\n",
       "                                  'epsilon_insensitive']},\n",
       "             scoring='neg_root_mean_squared_error')"
      ]
     },
     "execution_count": 177,
     "metadata": {},
     "output_type": "execute_result"
    }
   ],
   "source": [
    "grid.fit(Xtraina_trans,ytraina)"
   ]
  },
  {
   "cell_type": "code",
   "execution_count": 178,
   "metadata": {},
   "outputs": [
    {
     "data": {
      "text/html": [
       "<div>\n",
       "<style scoped>\n",
       "    .dataframe tbody tr th:only-of-type {\n",
       "        vertical-align: middle;\n",
       "    }\n",
       "\n",
       "    .dataframe tbody tr th {\n",
       "        vertical-align: top;\n",
       "    }\n",
       "\n",
       "    .dataframe thead th {\n",
       "        text-align: right;\n",
       "    }\n",
       "</style>\n",
       "<table border=\"1\" class=\"dataframe\">\n",
       "  <thead>\n",
       "    <tr style=\"text-align: right;\">\n",
       "      <th></th>\n",
       "      <th>Loss</th>\n",
       "    </tr>\n",
       "  </thead>\n",
       "  <tbody>\n",
       "    <tr>\n",
       "      <th>squared0</th>\n",
       "      <td>2.50750</td>\n",
       "    </tr>\n",
       "    <tr>\n",
       "      <th>huber0</th>\n",
       "      <td>2.64118</td>\n",
       "    </tr>\n",
       "    <tr>\n",
       "      <th>ep0</th>\n",
       "      <td>2.63848</td>\n",
       "    </tr>\n",
       "    <tr>\n",
       "      <th>squared0.0005</th>\n",
       "      <td>2.50748</td>\n",
       "    </tr>\n",
       "    <tr>\n",
       "      <th>huber0.0005</th>\n",
       "      <td>2.62642</td>\n",
       "    </tr>\n",
       "    <tr>\n",
       "      <th>ep.0005</th>\n",
       "      <td>2.63467</td>\n",
       "    </tr>\n",
       "    <tr>\n",
       "      <th>squared0.001</th>\n",
       "      <td>2.50749</td>\n",
       "    </tr>\n",
       "    <tr>\n",
       "      <th>huber0.001</th>\n",
       "      <td>2.61720</td>\n",
       "    </tr>\n",
       "    <tr>\n",
       "      <th>ep0.001</th>\n",
       "      <td>2.63188</td>\n",
       "    </tr>\n",
       "  </tbody>\n",
       "</table>\n",
       "</div>"
      ],
      "text/plain": [
       "                 Loss\n",
       "squared0      2.50750\n",
       "huber0        2.64118\n",
       "ep0           2.63848\n",
       "squared0.0005 2.50748\n",
       "huber0.0005   2.62642\n",
       "ep.0005       2.63467\n",
       "squared0.001  2.50749\n",
       "huber0.001    2.61720\n",
       "ep0.001       2.63188"
      ]
     },
     "execution_count": 178,
     "metadata": {},
     "output_type": "execute_result"
    }
   ],
   "source": [
    "comparison = pd.DataFrame(np.abs(grid.cv_results_['mean_test_score']),columns=['Loss'],index=['squared0','huber0','ep0','squared0.0005','huber0.0005','ep.0005','squared0.001','huber0.001','ep0.001'])\n",
    "pd.options.display.float_format='{:,.5f}'.format\n",
    "comparison \n"
   ]
  },
  {
   "cell_type": "markdown",
   "metadata": {},
   "source": [
    "We observed that alpha =0.0005, loss= squared is the best for the hyper parameters combination"
   ]
  },
  {
   "cell_type": "code",
   "execution_count": 179,
   "metadata": {},
   "outputs": [],
   "source": [
    "#set the best hyperparameter combination found\n",
    "modela =SGDRegressor(alpha= 0.0005, random_state=0)"
   ]
  },
  {
   "cell_type": "code",
   "execution_count": 180,
   "metadata": {},
   "outputs": [
    {
     "data": {
      "text/plain": [
       "SGDRegressor(alpha=0.0005, random_state=0)"
      ]
     },
     "execution_count": 180,
     "metadata": {},
     "output_type": "execute_result"
    }
   ],
   "source": [
    "modela.fit(Xtraina_trans,ytraina)"
   ]
  },
  {
   "cell_type": "code",
   "execution_count": 181,
   "metadata": {
    "scrolled": true
   },
   "outputs": [
    {
     "name": "stdout",
     "output_type": "stream",
     "text": [
      "The R-squared score on train set 0.3867\n"
     ]
    }
   ],
   "source": [
    "print('The R-squared score on train set {:,.4f}'.format(modela.score(Xtraina_trans,ytraina)))"
   ]
  },
  {
   "cell_type": "code",
   "execution_count": 182,
   "metadata": {},
   "outputs": [
    {
     "name": "stdout",
     "output_type": "stream",
     "text": [
      "The R-squared score on test set 0.3870\n"
     ]
    }
   ],
   "source": [
    "print('The R-squared score on test set {:,.4f}'.format(modela.score(Xtesta_trans,ytesta)))"
   ]
  },
  {
   "cell_type": "markdown",
   "metadata": {},
   "source": [
    "The score on test set and that on train set look roughly close to each other (i.e: up to two decimals to the right). \n",
    "\n",
    "R-squared score 0.38 means that the linear model minimizing a regularized empirical loss with SGD constructed by incorporating features available at the start of the trip could explain 38% variation in the trip distance."
   ]
  },
  {
   "cell_type": "code",
   "execution_count": 183,
   "metadata": {},
   "outputs": [],
   "source": [
    "y_pred = modela.predict(Xtesta_trans)\n",
    "error= pd.Series(ytesta-y_pred, name= 'Error').to_frame()"
   ]
  },
  {
   "cell_type": "code",
   "execution_count": 184,
   "metadata": {},
   "outputs": [
    {
     "data": {
      "image/png": "[encoded data removed]",
      "text/plain": [
       "<Figure size 432x432 with 1 Axes>"
      ]
     },
     "metadata": {},
     "output_type": "display_data"
    }
   ],
   "source": [
    "g= sns.FacetGrid(data=error, height=6)\n",
    "g.map(sns.histplot, 'Error', color=sns.color_palette('deep')[0],bins=15)\n",
    "g.set(title='Error between the predicted trip distance and the trip distance')\n",
    "g.set_axis_labels('Miles')\n",
    "g.axes[0][0].yaxis.set_major_formatter(formatter)\n",
    "plt.tight_layout()\n",
    "plt.show()"
   ]
  },
  {
   "cell_type": "markdown",
   "metadata": {},
   "source": [
    "As shown in the histogram of errors, the errors distribution follows the normal distribution. Most of the time, the mass of error concentrates at 0. "
   ]
  },
  {
   "cell_type": "markdown",
   "metadata": {},
   "source": [
    "### Predicting fare_amount \n",
    "(\n",
    "\n",
    "+do not make use of features that are clearly related to the fare amount(i.e: extra, tip_amount, tolls_amount,improvement_surcharge, total_amount, congestion_surchage, trip_distance, duration_sec\n",
    "\n",
    "+work out the parsimonious model. \n",
    "\n",
    "\n",
    ")"
   ]
  },
  {
   "cell_type": "code",
   "execution_count": 138,
   "metadata": {},
   "outputs": [],
   "source": [
    "yb= Xfull['clipped_fare_amount']"
   ]
  },
  {
   "cell_type": "code",
   "execution_count": 139,
   "metadata": {},
   "outputs": [],
   "source": [
    "Xb =Xfull.drop(['improvement_surcharge',\n",
    "       'congestion_surcharge', 'clipped_duration_sec', 'clipped_trip_distance',\n",
    "       'clipped_fare_amount', 'clipped_extra',\n",
    "       'clipped_tip_amount', 'clipped_tolls_amount', 'clipped_total_amount'],axis=1)"
   ]
  },
  {
   "cell_type": "code",
   "execution_count": 190,
   "metadata": {},
   "outputs": [
    {
     "name": "stdout",
     "output_type": "stream",
     "text": [
      "Features used are as follows\n"
     ]
    },
    {
     "data": {
      "text/html": [
       "<div>\n",
       "<style scoped>\n",
       "    .dataframe tbody tr th:only-of-type {\n",
       "        vertical-align: middle;\n",
       "    }\n",
       "\n",
       "    .dataframe tbody tr th {\n",
       "        vertical-align: top;\n",
       "    }\n",
       "\n",
       "    .dataframe thead th {\n",
       "        text-align: right;\n",
       "    }\n",
       "</style>\n",
       "<table border=\"1\" class=\"dataframe\">\n",
       "  <thead>\n",
       "    <tr style=\"text-align: right;\">\n",
       "      <th></th>\n",
       "      <th>Features</th>\n",
       "    </tr>\n",
       "  </thead>\n",
       "  <tbody>\n",
       "    <tr>\n",
       "      <th>0</th>\n",
       "      <td>PUweekend</td>\n",
       "    </tr>\n",
       "    <tr>\n",
       "      <th>1</th>\n",
       "      <td>DOweekend</td>\n",
       "    </tr>\n",
       "    <tr>\n",
       "      <th>2</th>\n",
       "      <td>passenger_count</td>\n",
       "    </tr>\n",
       "    <tr>\n",
       "      <th>3</th>\n",
       "      <td>clipped_mta_tax</td>\n",
       "    </tr>\n",
       "    <tr>\n",
       "      <th>4</th>\n",
       "      <td>r2</td>\n",
       "    </tr>\n",
       "    <tr>\n",
       "      <th>5</th>\n",
       "      <td>r3</td>\n",
       "    </tr>\n",
       "    <tr>\n",
       "      <th>6</th>\n",
       "      <td>r4</td>\n",
       "    </tr>\n",
       "    <tr>\n",
       "      <th>7</th>\n",
       "      <td>r5</td>\n",
       "    </tr>\n",
       "    <tr>\n",
       "      <th>8</th>\n",
       "      <td>r6</td>\n",
       "    </tr>\n",
       "    <tr>\n",
       "      <th>9</th>\n",
       "      <td>payCash</td>\n",
       "    </tr>\n",
       "    <tr>\n",
       "      <th>10</th>\n",
       "      <td>payNoCharge</td>\n",
       "    </tr>\n",
       "    <tr>\n",
       "      <th>11</th>\n",
       "      <td>payDispute</td>\n",
       "    </tr>\n",
       "    <tr>\n",
       "      <th>12</th>\n",
       "      <td>PUhoursin</td>\n",
       "    </tr>\n",
       "    <tr>\n",
       "      <th>13</th>\n",
       "      <td>PUhourcos</td>\n",
       "    </tr>\n",
       "    <tr>\n",
       "      <th>14</th>\n",
       "      <td>DOhoursin</td>\n",
       "    </tr>\n",
       "    <tr>\n",
       "      <th>15</th>\n",
       "      <td>DOhourcos</td>\n",
       "    </tr>\n",
       "    <tr>\n",
       "      <th>16</th>\n",
       "      <td>PUdaysin</td>\n",
       "    </tr>\n",
       "    <tr>\n",
       "      <th>17</th>\n",
       "      <td>PUdaycos</td>\n",
       "    </tr>\n",
       "    <tr>\n",
       "      <th>18</th>\n",
       "      <td>DOdaysin</td>\n",
       "    </tr>\n",
       "    <tr>\n",
       "      <th>19</th>\n",
       "      <td>DOdaycos</td>\n",
       "    </tr>\n",
       "    <tr>\n",
       "      <th>20</th>\n",
       "      <td>PUmonthsin</td>\n",
       "    </tr>\n",
       "    <tr>\n",
       "      <th>21</th>\n",
       "      <td>PUmonthcos</td>\n",
       "    </tr>\n",
       "    <tr>\n",
       "      <th>22</th>\n",
       "      <td>DOmonthsin</td>\n",
       "    </tr>\n",
       "    <tr>\n",
       "      <th>23</th>\n",
       "      <td>DOmonthcos</td>\n",
       "    </tr>\n",
       "    <tr>\n",
       "      <th>24</th>\n",
       "      <td>tojfk</td>\n",
       "    </tr>\n",
       "    <tr>\n",
       "      <th>25</th>\n",
       "      <td>tonw</td>\n",
       "    </tr>\n",
       "    <tr>\n",
       "      <th>26</th>\n",
       "      <td>totimes</td>\n",
       "    </tr>\n",
       "    <tr>\n",
       "      <th>27</th>\n",
       "      <td>towtc</td>\n",
       "    </tr>\n",
       "    <tr>\n",
       "      <th>28</th>\n",
       "      <td>toboa</td>\n",
       "    </tr>\n",
       "    <tr>\n",
       "      <th>29</th>\n",
       "      <td>pd</td>\n",
       "    </tr>\n",
       "  </tbody>\n",
       "</table>\n",
       "</div>"
      ],
      "text/plain": [
       "           Features\n",
       "0         PUweekend\n",
       "1         DOweekend\n",
       "2   passenger_count\n",
       "3   clipped_mta_tax\n",
       "4                r2\n",
       "5                r3\n",
       "6                r4\n",
       "7                r5\n",
       "8                r6\n",
       "9           payCash\n",
       "10      payNoCharge\n",
       "11       payDispute\n",
       "12        PUhoursin\n",
       "13        PUhourcos\n",
       "14        DOhoursin\n",
       "15        DOhourcos\n",
       "16         PUdaysin\n",
       "17         PUdaycos\n",
       "18         DOdaysin\n",
       "19         DOdaycos\n",
       "20       PUmonthsin\n",
       "21       PUmonthcos\n",
       "22       DOmonthsin\n",
       "23       DOmonthcos\n",
       "24            tojfk\n",
       "25             tonw\n",
       "26          totimes\n",
       "27            towtc\n",
       "28            toboa\n",
       "29               pd"
      ]
     },
     "execution_count": 190,
     "metadata": {},
     "output_type": "execute_result"
    }
   ],
   "source": [
    "print('Features used are as follows')\n",
    "\n",
    "pd.Series(Xb.columns.values, name='Features').to_frame()"
   ]
  },
  {
   "cell_type": "code",
   "execution_count": 141,
   "metadata": {},
   "outputs": [],
   "source": [
    "# Train test split \n",
    "Xtrain,Xtest, ytrain,ytest = train_test_split(Xb,yb,test_size=0.2, random_state= 0)"
   ]
  },
  {
   "cell_type": "code",
   "execution_count": 142,
   "metadata": {},
   "outputs": [],
   "source": [
    "#Scale the features\n",
    "transformer_x = RobustScaler().fit(Xtrain)\n",
    "Xtrain_trans = pd.DataFrame(transformer_x.transform(Xtrain), index=Xtrain.index, columns=Xtrain.columns)\n",
    "Xtest_trans = pd.DataFrame(transformer_x.transform(Xtest), index=Xtest.index, columns=Xtest.columns)"
   ]
  },
  {
   "cell_type": "code",
   "execution_count": 143,
   "metadata": {},
   "outputs": [],
   "source": [
    "# Do the Cross-validation to check which model, which hyperparameters to use\n",
    "modelhyb= SGDRegressor(random_state=0)\n",
    "hyperparameters= {'loss':['squared_loss','huber'], 'alpha': [0,0.0001]} "
   ]
  },
  {
   "cell_type": "code",
   "execution_count": 144,
   "metadata": {},
   "outputs": [],
   "source": [
    "grid= GridSearchCV(modelhyb, hyperparameters, cv=5, scoring='neg_root_mean_squared_error',n_jobs=-1 )"
   ]
  },
  {
   "cell_type": "code",
   "execution_count": 145,
   "metadata": {},
   "outputs": [
    {
     "data": {
      "text/plain": [
       "GridSearchCV(cv=5, estimator=SGDRegressor(random_state=0), n_jobs=-1,\n",
       "             param_grid={'alpha': [0, 0.0001],\n",
       "                         'loss': ['squared_loss', 'huber']},\n",
       "             scoring='neg_root_mean_squared_error')"
      ]
     },
     "execution_count": 145,
     "metadata": {},
     "output_type": "execute_result"
    }
   ],
   "source": [
    "grid.fit(Xtrain_trans,ytrain)"
   ]
  },
  {
   "cell_type": "code",
   "execution_count": 146,
   "metadata": {},
   "outputs": [],
   "source": [
    "comparison = pd.DataFrame(np.abs(grid.cv_results_['mean_test_score']),columns=['Loss'],index=['squared0','huber0','squared0.0001','huber0.0001']) "
   ]
  },
  {
   "cell_type": "code",
   "execution_count": 147,
   "metadata": {},
   "outputs": [
    {
     "data": {
      "text/html": [
       "<div>\n",
       "<style scoped>\n",
       "    .dataframe tbody tr th:only-of-type {\n",
       "        vertical-align: middle;\n",
       "    }\n",
       "\n",
       "    .dataframe tbody tr th {\n",
       "        vertical-align: top;\n",
       "    }\n",
       "\n",
       "    .dataframe thead th {\n",
       "        text-align: right;\n",
       "    }\n",
       "</style>\n",
       "<table border=\"1\" class=\"dataframe\">\n",
       "  <thead>\n",
       "    <tr style=\"text-align: right;\">\n",
       "      <th></th>\n",
       "      <th>Loss</th>\n",
       "    </tr>\n",
       "  </thead>\n",
       "  <tbody>\n",
       "    <tr>\n",
       "      <th>squared0</th>\n",
       "      <td>3.39439</td>\n",
       "    </tr>\n",
       "    <tr>\n",
       "      <th>huber0</th>\n",
       "      <td>3.48237</td>\n",
       "    </tr>\n",
       "    <tr>\n",
       "      <th>squared0.0001</th>\n",
       "      <td>3.39481</td>\n",
       "    </tr>\n",
       "    <tr>\n",
       "      <th>huber0.0001</th>\n",
       "      <td>3.48485</td>\n",
       "    </tr>\n",
       "  </tbody>\n",
       "</table>\n",
       "</div>"
      ],
      "text/plain": [
       "                 Loss\n",
       "squared0      3.39439\n",
       "huber0        3.48237\n",
       "squared0.0001 3.39481\n",
       "huber0.0001   3.48485"
      ]
     },
     "execution_count": 147,
     "metadata": {},
     "output_type": "execute_result"
    }
   ],
   "source": [
    "comparison  "
   ]
  },
  {
   "cell_type": "markdown",
   "metadata": {},
   "source": [
    "We observed that alpha =0, loss= squared is the best for the hyper parameters combination"
   ]
  },
  {
   "cell_type": "code",
   "execution_count": 149,
   "metadata": {},
   "outputs": [],
   "source": [
    "modelb = SGDRegressor(alpha=0,random_state=0)"
   ]
  },
  {
   "cell_type": "markdown",
   "metadata": {},
   "source": [
    "In an attempt to work out the parimonious model (the simplest model but having the high preditive ability), I did cross validation to find out how many features to go for"
   ]
  },
  {
   "cell_type": "code",
   "execution_count": 150,
   "metadata": {},
   "outputs": [],
   "source": [
    "from sklearn.model_selection import cross_val_score\n",
    "scores = cross_val_score(modelb, Xtrain_trans, ytrain, cv=5)"
   ]
  },
  {
   "cell_type": "code",
   "execution_count": 151,
   "metadata": {},
   "outputs": [
    {
     "name": "stdout",
     "output_type": "stream",
     "text": [
      "The average R-squared score on validation set is 0.8652\n"
     ]
    }
   ],
   "source": [
    "print('The average R-squared score on validation set is {:,.4f}'.format(np.mean(scores)))"
   ]
  },
  {
   "cell_type": "code",
   "execution_count": 152,
   "metadata": {},
   "outputs": [],
   "source": [
    "Xheatmap= pd.concat([Xtrain_trans,ytrain],axis=1)"
   ]
  },
  {
   "cell_type": "code",
   "execution_count": 154,
   "metadata": {},
   "outputs": [
    {
     "data": {
      "image/png": "[encoded data removed]",
      "text/plain": [
       "<Figure size 1080x1080 with 2 Axes>"
      ]
     },
     "metadata": {},
     "output_type": "display_data"
    }
   ],
   "source": [
    "fig, ax= plt.subplots(1,1, figsize=(15,15))\n",
    "sns.heatmap(data=Xheatmap.corr(),\n",
    "            cmap=sns.diverging_palette(250,30,as_cmap=True),\n",
    "            annot=False,\n",
    "            fmt='g',\n",
    "            ax=ax)\n",
    "ax.set_title('Correlation matrix')\n",
    "plt.tight_layout()\n",
    "plt.show()\n",
    "#there is no variation in clipped_mta_tax column. That is why there is a white cross"
   ]
  },
  {
   "cell_type": "markdown",
   "metadata": {},
   "source": [
    "Pay attention to the clipped_fare_amount at the last row which is our target variable. We see that there seems to have 7 features ('r2', 'pd','tojfk','tonw', 'totimes', 'towtc','toboa') having some non trivial relationship with it. So we only opt for these features to build our model"
   ]
  },
  {
   "cell_type": "markdown",
   "metadata": {},
   "source": [
    "##### 7 strongest features: 6 distance features + r2"
   ]
  },
  {
   "cell_type": "code",
   "execution_count": 155,
   "metadata": {},
   "outputs": [],
   "source": [
    "modelb7 = SGDRegressor(alpha=0,random_state=0)\n",
    "scoresb7 = cross_val_score(modelb7, Xtrain_trans[['pd','tojfk',\n",
    "       'tonw', 'totimes', 'towtc','toboa','r2' ]], ytrain, cv=5)"
   ]
  },
  {
   "cell_type": "code",
   "execution_count": 160,
   "metadata": {},
   "outputs": [
    {
     "name": "stdout",
     "output_type": "stream",
     "text": [
      "The average R-squared score on validation set when using only 7 strongest features is 0.8568\n"
     ]
    }
   ],
   "source": [
    "print('The average R-squared score on validation set when using only 7 strongest features is {:,.4f}'.format(np.mean(scoresb7)))"
   ]
  },
  {
   "cell_type": "markdown",
   "metadata": {},
   "source": [
    "##### Could the model be more parsimonious? \n",
    "(1 feature only which is the Harvesine  distance between the pick up and the drop off point (i.e: pd))"
   ]
  },
  {
   "cell_type": "code",
   "execution_count": 158,
   "metadata": {},
   "outputs": [],
   "source": [
    "modelb1= SGDRegressor(alpha=0,random_state=0)\n",
    "scoresb1 = cross_val_score(modelb1, pd.DataFrame(Xtrain_trans['pd'],index=Xtrain_trans.index,columns=['pd']), ytrain, cv=5)"
   ]
  },
  {
   "cell_type": "code",
   "execution_count": 159,
   "metadata": {
    "scrolled": true
   },
   "outputs": [
    {
     "name": "stdout",
     "output_type": "stream",
     "text": [
      "The average R-squared score on validation set when using only 1 strongest features is 0.8532\n"
     ]
    }
   ],
   "source": [
    "print('The average R-squared score on validation set when using only 1 strongest feature is {:,.4f}'.format(np.mean(scoresb1)))"
   ]
  },
  {
   "cell_type": "markdown",
   "metadata": {},
   "source": [
    "##### Conclusion: \n",
    "\n",
    "1 feature should be best both in terms of the performance of the model and the number of parameters. Let's see how the 1 feature model perform on the test set"
   ]
  },
  {
   "cell_type": "code",
   "execution_count": 161,
   "metadata": {},
   "outputs": [
    {
     "data": {
      "text/plain": [
       "SGDRegressor(alpha=0, random_state=0)"
      ]
     },
     "execution_count": 161,
     "metadata": {},
     "output_type": "execute_result"
    }
   ],
   "source": [
    "finalmodelb= SGDRegressor(alpha=0,random_state=0)\n",
    "finalmodelb.fit(Xtrain_trans[['pd']],ytrain)"
   ]
  },
  {
   "cell_type": "code",
   "execution_count": 162,
   "metadata": {},
   "outputs": [
    {
     "name": "stdout",
     "output_type": "stream",
     "text": [
      "The R-squared score on the train set is 0.8531\n"
     ]
    }
   ],
   "source": [
    "print('The R-squared score on the train set is {:,.4f}'.format(finalmodelb.score(Xtrain_trans[['pd']],ytrain)))"
   ]
  },
  {
   "cell_type": "code",
   "execution_count": 164,
   "metadata": {},
   "outputs": [
    {
     "name": "stdout",
     "output_type": "stream",
     "text": [
      "The R-squared score on the test set is 0.8510\n"
     ]
    }
   ],
   "source": [
    "print('The R-squared score on the test set is {:,.4f}'.format(finalmodelb.score(Xtest_trans[['pd']],ytest)))"
   ]
  },
  {
   "cell_type": "markdown",
   "metadata": {},
   "source": [
    "The score on test set and that on train set look roughly close to each other (i.e: up to two decimals to the right). \n",
    "\n",
    "R-squared score 0.85 means that the linear model minimizing a regularized empirical loss with SGD constructed could explain 85% variation in the fare amount."
   ]
  },
  {
   "cell_type": "code",
   "execution_count": 165,
   "metadata": {},
   "outputs": [],
   "source": [
    "y_pred= finalmodelb.predict(Xtest_trans[['pd']])\n",
    "error =pd.Series(ytest-y_pred, name='Error').to_frame()"
   ]
  },
  {
   "cell_type": "code",
   "execution_count": 167,
   "metadata": {},
   "outputs": [
    {
     "data": {
      "image/png": "[encoded data removed]",
      "text/plain": [
       "<Figure size 432x432 with 1 Axes>"
      ]
     },
     "metadata": {},
     "output_type": "display_data"
    }
   ],
   "source": [
    "def thousands(y, pos):\n",
    "    return '{:,.0f}'.format(y)\n",
    "formatter= FuncFormatter(thousands)\n",
    "g= sns.FacetGrid(data=error, height=6)\n",
    "g.map(sns.histplot, 'Error', color=sns.color_palette('deep')[0],bins=15)\n",
    "g.set(title='Error between predicted fare amount  and fare amount')\n",
    "g.set_axis_labels('Dollars')\n",
    "g.axes[0][0].yaxis.set_major_formatter(formatter)\n",
    "plt.tight_layout()\n",
    "plt.show()"
   ]
  },
  {
   "cell_type": "markdown",
   "metadata": {},
   "source": [
    "###  Predict payment type\n",
    "(call on all features)"
   ]
  },
  {
   "cell_type": "code",
   "execution_count": 285,
   "metadata": {},
   "outputs": [],
   "source": [
    "yc= initial_trimmed_encoded['payment_type']"
   ]
  },
  {
   "cell_type": "code",
   "execution_count": 286,
   "metadata": {},
   "outputs": [],
   "source": [
    "Xc=Xfull.drop(['payCash', 'payNoCharge', 'payDispute'],axis=1)"
   ]
  },
  {
   "cell_type": "code",
   "execution_count": 287,
   "metadata": {},
   "outputs": [],
   "source": [
    "Xtrain,Xtest, ytrain,ytest = train_test_split(Xc,yc,test_size=0.2, random_state=0)"
   ]
  },
  {
   "cell_type": "code",
   "execution_count": 288,
   "metadata": {},
   "outputs": [],
   "source": [
    "transformer_x = RobustScaler().fit(Xtrain)\n",
    "Xtrain_trans = pd.DataFrame(transformer_x.transform(Xtrain), index=Xtrain.index, columns=Xtrain.columns)\n",
    "Xtest_trans = pd.DataFrame(transformer_x.transform(Xtest), index=Xtest.index, columns=Xtest.columns)"
   ]
  },
  {
   "cell_type": "markdown",
   "metadata": {},
   "source": [
    "Below, I tried to work out the better hyper parameter combinations. Due to such a huge design matrix, I just demonstrated the idea of working out the best hyperparameters in a simple manner"
   ]
  },
  {
   "cell_type": "code",
   "execution_count": 291,
   "metadata": {},
   "outputs": [],
   "source": [
    "modelclog= SGDClassifier(loss='log',random_state=0)\n",
    "scoreclog = cross_val_score(modelclog,Xtrain_trans,ytrain, cv=5)"
   ]
  },
  {
   "cell_type": "code",
   "execution_count": 298,
   "metadata": {},
   "outputs": [
    {
     "name": "stdout",
     "output_type": "stream",
     "text": [
      "The average R-squared on validation set using Loss function 'log' is: 0.9694\n"
     ]
    }
   ],
   "source": [
    "print('The average R-squared on validation set using loss function =\\'log\\' is: {:,.4f}'.format(np.mean(scoreclog)))"
   ]
  },
  {
   "cell_type": "code",
   "execution_count": 294,
   "metadata": {},
   "outputs": [],
   "source": [
    "modelcsvc= SGDClassifier(loss='hinge',random_state=0)\n",
    "scorecsvc = cross_val_score(modelcsvc, Xtrain_trans, ytrain, cv=5)"
   ]
  },
  {
   "cell_type": "code",
   "execution_count": 301,
   "metadata": {},
   "outputs": [
    {
     "name": "stdout",
     "output_type": "stream",
     "text": [
      "The average R-squared on validation set using loss function = 'hinge' is: 0.9696\n"
     ]
    }
   ],
   "source": [
    "print('The average R-squared on validation set using loss function = \\'hinge\\' is: {:,.4f}'.format(np.mean(scorecsvc)))"
   ]
  },
  {
   "cell_type": "markdown",
   "metadata": {},
   "source": [
    "Therefore, we used hyperparameter loss function 'Hinge' "
   ]
  },
  {
   "cell_type": "code",
   "execution_count": 302,
   "metadata": {
    "scrolled": true
   },
   "outputs": [],
   "source": [
    "modelc= SGDClassifier(loss='hinge',random_state=0)"
   ]
  },
  {
   "cell_type": "code",
   "execution_count": 303,
   "metadata": {},
   "outputs": [
    {
     "data": {
      "text/plain": [
       "SGDClassifier(random_state=0)"
      ]
     },
     "execution_count": 303,
     "metadata": {},
     "output_type": "execute_result"
    }
   ],
   "source": [
    "modelc.fit(Xtrain_trans,ytrain)"
   ]
  },
  {
   "cell_type": "code",
   "execution_count": 309,
   "metadata": {},
   "outputs": [
    {
     "name": "stdout",
     "output_type": "stream",
     "text": [
      "The R-squared score on train set is 0.9696\n"
     ]
    }
   ],
   "source": [
    "print('The R-squared score on train set is {:,.4f}'.format(modelc.score(Xtrain_trans,ytrain)))"
   ]
  },
  {
   "cell_type": "code",
   "execution_count": 310,
   "metadata": {},
   "outputs": [
    {
     "name": "stdout",
     "output_type": "stream",
     "text": [
      "The  R-squared score on test set is 0.9696\n"
     ]
    }
   ],
   "source": [
    "print('The  R-squared score on test set is {:,.4f}'.format(modelc.score(Xtest_trans,ytest)))"
   ]
  },
  {
   "cell_type": "markdown",
   "metadata": {},
   "source": [
    "The model is able to capture around 97% variation in the payment type"
   ]
  },
  {
   "cell_type": "code",
   "execution_count": 319,
   "metadata": {},
   "outputs": [],
   "source": [
    "y_pred= modelc.predict(Xtest_trans)\n",
    "error=pd.Series(np.abs(ytest-y_pred), name='Error').to_frame()"
   ]
  },
  {
   "cell_type": "code",
   "execution_count": 320,
   "metadata": {},
   "outputs": [
    {
     "data": {
      "image/png": "[encoded data removed]",
      "text/plain": [
       "<Figure size 432x432 with 1 Axes>"
      ]
     },
     "metadata": {},
     "output_type": "display_data"
    }
   ],
   "source": [
    "g= sns.FacetGrid(data=error, height=6)\n",
    "g.map(sns.histplot, 'Error', color=sns.color_palette('deep')[0],bins=15)\n",
    "g.set(title='Mismatch between predicted payment type  and payment type')\n",
    "g.axes[0][0].yaxis.set_major_formatter(formatter)\n",
    "plt.tight_layout()\n",
    "plt.show()"
   ]
  },
  {
   "cell_type": "markdown",
   "metadata": {},
   "source": [
    "The histogram is in line with the idea above that our model prediction is rather accurate (i.e: being able to capture 97% variation in payment type)"
   ]
  }
 ],
 "metadata": {
  "kernelspec": {
   "display_name": "Python 3 (ipykernel)",
   "language": "python",
   "name": "python3"
  },
  "language_info": {
   "codemirror_mode": {
    "name": "ipython",
    "version": 3
   },
   "file_extension": ".py",
   "mimetype": "text/x-python",
   "name": "python",
   "nbconvert_exporter": "python",
   "pygments_lexer": "ipython3",
   "version": "3.9.7"
  }
 },
 "nbformat": 4,
 "nbformat_minor": 4
}
